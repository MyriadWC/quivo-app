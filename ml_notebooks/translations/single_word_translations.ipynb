{
 "cells": [
  {
   "cell_type": "markdown",
   "metadata": {},
   "source": [
    "# Individual translation of target-language words to user's native language"
   ]
  },
  {
   "cell_type": "markdown",
   "metadata": {},
   "source": [
    "I want two types of translation. First will be a translation of the overall sentence that can be revealed with a button. For this I can use an LLM to create sentence-level translations upstream. However, these won't give a 1:1 mapping between each word and its translation. The second type of translation is an accurate translation for a single word in the sentence if the user clicks on it. It also needs to be quite computationally cheap.\n",
    "\n",
    "Words can have multiple meanings depending on context, so there are a couple of methods I could use for translation. Single-word translation will always be shaky at best, but there are a few strategies that might improve its accuracy:\n",
    "\n",
    "1. A model to generate a translation of a word given its context (the words that come before and after it).\n",
    "\n",
    "2. Use the viterbi algorithm to predict the most likely hidden states (verb, noun etc.) for each word in the sentence (I can do this once for each sentence) and use that to inform the correct word form to use for translation. For example, if I knew that the word 'study' was used as a verb and not a noun in a particular sentence, I'd know to translate it to 'étudier' and not 'bureau'.\n",
    "\n",
    "I got a dictionary that contains the word type, but there are some problems:\n",
    "\n",
    "1. It doesn't really contain different word forms such as a (avoir) for has etc.\n",
    "\n",
    "2. The feminine form of adjectives is often not present (grand but not grande).\n",
    "\n",
    "3. Words with multiple meanings and word types often aren't fully represented. All the meanings of plus representing more, or greater, are there but there's nothing for when it's used to mean no more (ex: il y'en a plus), which could obviously be super confusing if that example translated plus as more.\n",
    "\n"
   ]
  }
 ],
 "metadata": {
  "language_info": {
   "name": "python"
  },
  "orig_nbformat": 4
 },
 "nbformat": 4,
 "nbformat_minor": 2
}
