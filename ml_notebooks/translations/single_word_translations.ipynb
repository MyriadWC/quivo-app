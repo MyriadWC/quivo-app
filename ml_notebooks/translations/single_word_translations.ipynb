{
 "cells": [
  {
   "cell_type": "markdown",
   "metadata": {},
   "source": [
    "# Individual translation of target-language words to user's native language"
   ]
  },
  {
   "cell_type": "markdown",
   "metadata": {},
   "source": [
    "I want two types of translation. First will be a translation of the overall sentence that can be revealed with a button. For this I can use an LLM to create sentence-level translations upstream. However, these won't give a 1:1 mapping between each word and its translation. The second type of translation is an accurate translation for a single word in the sentence if the user clicks on it. It also needs to be quite computationally cheap.\n",
    "\n",
    "Words can have multiple meanings depending on context, so there are a couple of methods I could use for translation. Single-word translation will always be shaky at best, but there are a few strategies that might improve its accuracy:\n",
    "\n",
    "1. A model to generate a translation of a word given its context (the words that come before and after it).\n",
    "\n",
    "2. Initially I wanted to use POS tagging to get the word and its type, which I'd then be able to feed into some dictionary to get a contextually correct translation, even for ambiguous words with multiple meanings. I can't really find a way to do this, so my new plan is to use word embeddings. When a user clicks on a word, I'll find the vector representation of the word from the word and its surrounding context. Then I need to figure out a way to map this representation to the target language’s vector space using a transformation matrix. Apparently these kinds of matrices can be learned using aligned corpora or dictionaries, or with methods like VecMap4 or MUSE5 that don’t require parallel data. I've not really looked too much into this but it seems like a reasonable approach, and it will enable me to find the word in the target language that is closest to the transformed vector in the target language’s vector space.\n",
    "\n"
   ]
  },
  {
   "cell_type": "markdown",
   "metadata": {},
   "source": []
  }
 ],
 "metadata": {
  "language_info": {
   "name": "python"
  },
  "orig_nbformat": 4
 },
 "nbformat": 4,
 "nbformat_minor": 2
}
