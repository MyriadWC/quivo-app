{
 "cells": [
  {
   "cell_type": "markdown",
   "metadata": {},
   "source": [
    "# Individual translation of target-language words to user's native language"
   ]
  },
  {
   "cell_type": "markdown",
   "metadata": {},
   "source": [
    "I want two types of translation. First will be a translation of the overall sentence that can be revealed with a button. For this I can use an LLM to create sentence-level translations upstream. However, these won't give a 1:1 mapping between each word and its translation. The second type of translation is an accurate translation for a single word in the sentence if the user clicks on it. It also needs to be quite computationally cheap.\n",
    "\n",
    "Words can have multiple meanings depending on context, so there are a couple of methods I could use for translation. Single-word translation will always be shaky at best, but there are a few strategies that might improve its accuracy:\n",
    "\n",
    "1. A model to generate a translation of a word given its context (the words that come before and after it).\n",
    "\n",
    "2. Use the viterbi algorithm to predict the most likely hidden states (verb, noun etc.) for each word in the sentence (I can do this once for each sentence) and use that to inform the correct word form to use for translation. For example, if I knew that the word 'study' was used as a verb and not a noun in a particular sentence, I'd know to translate it to 'étudier' and not 'bureau'."
   ]
  }
 ],
 "metadata": {
  "language_info": {
   "name": "python"
  },
  "orig_nbformat": 4
 },
 "nbformat": 4,
 "nbformat_minor": 2
}
