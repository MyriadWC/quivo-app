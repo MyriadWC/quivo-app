{
 "cells": [
  {
   "cell_type": "code",
   "execution_count": 1,
   "metadata": {},
   "outputs": [],
   "source": [
    "import os\n",
    "import pandas as pd"
   ]
  },
  {
   "cell_type": "code",
   "execution_count": 2,
   "metadata": {},
   "outputs": [],
   "source": [
    "filepath = os.path.join(\"./fra_mixed_2009_1M\", \"fra_mixed_2009_1M-sentences.txt\")\n",
    "df = pd.read_csv(filepath, delimiter='\\t', header=None)\n",
    "df.columns = [\"id\", \"sentence\"]"
   ]
  },
  {
   "cell_type": "code",
   "execution_count": 3,
   "metadata": {},
   "outputs": [
    {
     "name": "stdout",
     "output_type": "stream",
     "text": [
      "<class 'pandas.core.frame.DataFrame'>\n",
      "RangeIndex: 955721 entries, 0 to 955720\n",
      "Data columns (total 2 columns):\n",
      " #   Column    Non-Null Count   Dtype \n",
      "---  ------    --------------   ----- \n",
      " 0   id        955721 non-null  int64 \n",
      " 1   sentence  955721 non-null  object\n",
      "dtypes: int64(1), object(1)\n",
      "memory usage: 14.6+ MB\n"
     ]
    }
   ],
   "source": [
    "df.info()"
   ]
  },
  {
   "cell_type": "code",
   "execution_count": 4,
   "metadata": {},
   "outputs": [
    {
     "data": {
      "text/html": [
       "<div>\n",
       "<style scoped>\n",
       "    .dataframe tbody tr th:only-of-type {\n",
       "        vertical-align: middle;\n",
       "    }\n",
       "\n",
       "    .dataframe tbody tr th {\n",
       "        vertical-align: top;\n",
       "    }\n",
       "\n",
       "    .dataframe thead th {\n",
       "        text-align: right;\n",
       "    }\n",
       "</style>\n",
       "<table border=\"1\" class=\"dataframe\">\n",
       "  <thead>\n",
       "    <tr style=\"text-align: right;\">\n",
       "      <th></th>\n",
       "      <th>id</th>\n",
       "      <th>sentence</th>\n",
       "    </tr>\n",
       "  </thead>\n",
       "  <tbody>\n",
       "    <tr>\n",
       "      <th>0</th>\n",
       "      <td>1</td>\n",
       "      <td>La CGT avait d'ailleurs critiqué l'avis de la ...</td>\n",
       "    </tr>\n",
       "    <tr>\n",
       "      <th>1</th>\n",
       "      <td>2</td>\n",
       "      <td>Pour l'adressage rapide et professionnel de vo...</td>\n",
       "    </tr>\n",
       "    <tr>\n",
       "      <th>2</th>\n",
       "      <td>3</td>\n",
       "      <td>La vierge du Seigneur s'en alla ensuite termin...</td>\n",
       "    </tr>\n",
       "    <tr>\n",
       "      <th>3</th>\n",
       "      <td>4</td>\n",
       "      <td>Présentation de celui-ci à plusieurs écoles pr...</td>\n",
       "    </tr>\n",
       "    <tr>\n",
       "      <th>4</th>\n",
       "      <td>5</td>\n",
       "      <td>Car chez le tout-petit, une diarrhée aiguë n'e...</td>\n",
       "    </tr>\n",
       "  </tbody>\n",
       "</table>\n",
       "</div>"
      ],
      "text/plain": [
       "   id                                           sentence\n",
       "0   1  La CGT avait d'ailleurs critiqué l'avis de la ...\n",
       "1   2  Pour l'adressage rapide et professionnel de vo...\n",
       "2   3  La vierge du Seigneur s'en alla ensuite termin...\n",
       "3   4  Présentation de celui-ci à plusieurs écoles pr...\n",
       "4   5  Car chez le tout-petit, une diarrhée aiguë n'e..."
      ]
     },
     "execution_count": 4,
     "metadata": {},
     "output_type": "execute_result"
    }
   ],
   "source": [
    "df.head()"
   ]
  },
  {
   "cell_type": "code",
   "execution_count": 5,
   "metadata": {},
   "outputs": [
    {
     "data": {
      "text/html": [
       "<div>\n",
       "<style scoped>\n",
       "    .dataframe tbody tr th:only-of-type {\n",
       "        vertical-align: middle;\n",
       "    }\n",
       "\n",
       "    .dataframe tbody tr th {\n",
       "        vertical-align: top;\n",
       "    }\n",
       "\n",
       "    .dataframe thead th {\n",
       "        text-align: right;\n",
       "    }\n",
       "</style>\n",
       "<table border=\"1\" class=\"dataframe\">\n",
       "  <thead>\n",
       "    <tr style=\"text-align: right;\">\n",
       "      <th></th>\n",
       "      <th>id</th>\n",
       "      <th>sentence</th>\n",
       "    </tr>\n",
       "  </thead>\n",
       "  <tbody>\n",
       "    <tr>\n",
       "      <th>362750</th>\n",
       "      <td>379060</td>\n",
       "      <td>A cela, plusieurs raisons.</td>\n",
       "    </tr>\n",
       "    <tr>\n",
       "      <th>720964</th>\n",
       "      <td>754536</td>\n",
       "      <td>A cela, plusieurs raisons.</td>\n",
       "    </tr>\n",
       "    <tr>\n",
       "      <th>760195</th>\n",
       "      <td>795531</td>\n",
       "      <td>A une nuance près.</td>\n",
       "    </tr>\n",
       "    <tr>\n",
       "      <th>703079</th>\n",
       "      <td>735861</td>\n",
       "      <td>A une nuance près.</td>\n",
       "    </tr>\n",
       "    <tr>\n",
       "      <th>494127</th>\n",
       "      <td>516960</td>\n",
       "      <td>Aide à l'équipement et à l'animation Montant s...</td>\n",
       "    </tr>\n",
       "    <tr>\n",
       "      <th>194270</th>\n",
       "      <td>202592</td>\n",
       "      <td>Aide à l'équipement et à l'animation Montant s...</td>\n",
       "    </tr>\n",
       "    <tr>\n",
       "      <th>643516</th>\n",
       "      <td>673373</td>\n",
       "      <td>C'est avec raison que l'on t'aime.</td>\n",
       "    </tr>\n",
       "    <tr>\n",
       "      <th>153502</th>\n",
       "      <td>159947</td>\n",
       "      <td>C'est avec raison que l'on t'aime.</td>\n",
       "    </tr>\n",
       "  </tbody>\n",
       "</table>\n",
       "</div>"
      ],
      "text/plain": [
       "            id                                           sentence\n",
       "362750  379060                         A cela, plusieurs raisons.\n",
       "720964  754536                         A cela, plusieurs raisons.\n",
       "760195  795531                                 A une nuance près.\n",
       "703079  735861                                 A une nuance près.\n",
       "494127  516960  Aide à l'équipement et à l'animation Montant s...\n",
       "194270  202592  Aide à l'équipement et à l'animation Montant s...\n",
       "643516  673373                 C'est avec raison que l'on t'aime.\n",
       "153502  159947                 C'est avec raison que l'on t'aime."
      ]
     },
     "execution_count": 5,
     "metadata": {},
     "output_type": "execute_result"
    }
   ],
   "source": [
    "# Let's see if there are any duplicates in the dataset\n",
    "df[df[\"sentence\"].duplicated(keep=False)].sort_values(\"sentence\").head(8)"
   ]
  },
  {
   "cell_type": "code",
   "execution_count": 6,
   "metadata": {},
   "outputs": [
    {
     "data": {
      "text/plain": [
       "id           int64\n",
       "sentence    object\n",
       "dtype: object"
      ]
     },
     "execution_count": 6,
     "metadata": {},
     "output_type": "execute_result"
    }
   ],
   "source": [
    "df.dtypes"
   ]
  },
  {
   "cell_type": "code",
   "execution_count": 7,
   "metadata": {},
   "outputs": [],
   "source": [
    "# Remove all duplicates from the dataframe\n",
    "df = df.drop_duplicates(\"sentence\")"
   ]
  },
  {
   "cell_type": "code",
   "execution_count": 19,
   "metadata": {},
   "outputs": [
    {
     "name": "stdout",
     "output_type": "stream",
     "text": [
      "Longest sentence: 13377 characters\n",
      "Mon ami Kouchner a aussi déclaré que nous allions bientôt attaquer la Moldavie et l'Ukraine et la Crimée (...).\n",
      "992933\tLes tentative d'évasion sont découragées par des barrières types de camp de concentration (comme la sécurité lourde et les barrières électrifiées).\n",
      "992934\tDans leur efforts pour exterminer ce mouvement naissant, les autorités de la Perse fusillèrent le Báb (1850) et martyrisèrent plus de vingt mille de ses adeptes.\n",
      "992935\tIl y aurait donc là un moyen de bien discriminer entre ville et campagne.\n",
      "992936\tMerci de continuer à nous lire avec attention... et n'hésitez pas à nous fai\n"
     ]
    }
   ],
   "source": [
    "lengths: pd.Series = df['sentence'].str.len()\n",
    "max_characters: int = lengths.max()\n",
    "max_index = lengths.idxmax()\n",
    "\n",
    "# Find the sentence with the most characters to see if there are any delimitation issues.\n",
    "print(f'Longest sentence: {max_characters} characters')\n",
    "print(df[df.index == max_index]['sentence'].values[0][:600]) # Print out first 600 characters"
   ]
  },
  {
   "cell_type": "markdown",
   "metadata": {},
   "source": [
    "For some reason, it seems like some of the rows in the .txt files aren't being parsed properly. Let's fix this."
   ]
  },
  {
   "cell_type": "code",
   "execution_count": 8,
   "metadata": {},
   "outputs": [],
   "source": [
    "# Save dataframe as csv\n",
    "df.to_csv(\"./french_sentences_cleaned.csv\", sep='\\t', index=False)"
   ]
  },
  {
   "cell_type": "code",
   "execution_count": null,
   "metadata": {},
   "outputs": [],
   "source": []
  }
 ],
 "metadata": {
  "kernelspec": {
   "display_name": "venv",
   "language": "python",
   "name": "python3"
  },
  "language_info": {
   "codemirror_mode": {
    "name": "ipython",
    "version": 3
   },
   "file_extension": ".py",
   "mimetype": "text/x-python",
   "name": "python",
   "nbconvert_exporter": "python",
   "pygments_lexer": "ipython3",
   "version": "3.9.12"
  },
  "orig_nbformat": 4
 },
 "nbformat": 4,
 "nbformat_minor": 2
}
