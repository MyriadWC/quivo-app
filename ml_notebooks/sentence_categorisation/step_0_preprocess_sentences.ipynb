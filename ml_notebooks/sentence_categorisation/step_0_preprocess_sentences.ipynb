{
 "cells": [
  {
   "cell_type": "markdown",
   "metadata": {},
   "source": [
    "The best dataset I've found so far contains conversational sentences from film and series subtitles with translations for multiple languages:\n",
    "\n",
    "https://opus.nlpl.eu/OpenSubtitles-v2018.php\n",
    "https://github.com/PolyAI-LDN/conversational-datasets"
   ]
  },
  {
   "cell_type": "code",
   "execution_count": 1,
   "metadata": {},
   "outputs": [],
   "source": [
    "import os\n",
    "import constants\n",
    "import pandas as pd"
   ]
  },
  {
   "cell_type": "code",
   "execution_count": 2,
   "metadata": {},
   "outputs": [],
   "source": [
    "constants.language_code = 'ru'"
   ]
  },
  {
   "cell_type": "code",
   "execution_count": 3,
   "metadata": {},
   "outputs": [
    {
     "name": "stderr",
     "output_type": "stream",
     "text": [
      "C:\\Users\\Toby Usher\\AppData\\Local\\Temp\\ipykernel_19544\\485512561.py:4: ParserWarning: Falling back to the 'python' engine because the 'c' engine does not support regex separators (separators > 1 char and different from '\\s+' are interpreted as regex); you can avoid this warning by specifying engine='python'.\n",
      "  en_series = pd.read_csv(filepath_en, sep='\\\\t')\n",
      "C:\\Users\\Toby Usher\\AppData\\Local\\Temp\\ipykernel_19544\\485512561.py:5: ParserWarning: Falling back to the 'python' engine because the 'c' engine does not support regex separators (separators > 1 char and different from '\\s+' are interpreted as regex); you can avoid this warning by specifying engine='python'.\n",
      "  lang_series = pd.read_csv(filepath_lang, sep='\\\\t')\n"
     ]
    }
   ],
   "source": [
    "filepath_en = f\"../input_files/{constants.language_code}/open_subtitles/OpenSubtitles_en-{constants.language_code}.en\"\n",
    "filepath_lang = f\"../input_files/{constants.language_code}/open_subtitles/OpenSubtitles_en-{constants.language_code}.{constants.language_code}\"\n",
    "\n",
    "en_series = pd.read_csv(filepath_en, sep='\\\\t')\n",
    "lang_series = pd.read_csv(filepath_lang, sep='\\\\t')"
   ]
  },
  {
   "cell_type": "code",
   "execution_count": 4,
   "metadata": {},
   "outputs": [
    {
     "data": {
      "text/html": [
       "<div>\n",
       "<style scoped>\n",
       "    .dataframe tbody tr th:only-of-type {\n",
       "        vertical-align: middle;\n",
       "    }\n",
       "\n",
       "    .dataframe tbody tr th {\n",
       "        vertical-align: top;\n",
       "    }\n",
       "\n",
       "    .dataframe thead th {\n",
       "        text-align: right;\n",
       "    }\n",
       "</style>\n",
       "<table border=\"1\" class=\"dataframe\">\n",
       "  <thead>\n",
       "    <tr style=\"text-align: right;\">\n",
       "      <th></th>\n",
       "      <th>Дети могут достать во дворе почти всё что угодно до тех пор, пока могут себе это позволить.</th>\n",
       "    </tr>\n",
       "  </thead>\n",
       "  <tbody>\n",
       "    <tr>\n",
       "      <th>0</th>\n",
       "      <td>Всё имеет свою цену.</td>\n",
       "    </tr>\n",
       "    <tr>\n",
       "      <th>1</th>\n",
       "      <td>Эй, Ник.</td>\n",
       "    </tr>\n",
       "    <tr>\n",
       "      <th>2</th>\n",
       "      <td>У кого-нибудь есть клубничное молоко?</td>\n",
       "    </tr>\n",
       "    <tr>\n",
       "      <th>3</th>\n",
       "      <td>Мы знаем, у кого есть клубничное молоко?</td>\n",
       "    </tr>\n",
       "    <tr>\n",
       "      <th>4</th>\n",
       "      <td>Да, думаю у Донни немножко есть.</td>\n",
       "    </tr>\n",
       "  </tbody>\n",
       "</table>\n",
       "</div>"
      ],
      "text/plain": [
       "  Дети могут достать во дворе почти всё что угодно до тех пор, пока могут себе это позволить.\n",
       "0                               Всё имеет свою цену.                                         \n",
       "1                                           Эй, Ник.                                         \n",
       "2              У кого-нибудь есть клубничное молоко?                                         \n",
       "3           Мы знаем, у кого есть клубничное молоко?                                         \n",
       "4                   Да, думаю у Донни немножко есть.                                         "
      ]
     },
     "execution_count": 4,
     "metadata": {},
     "output_type": "execute_result"
    }
   ],
   "source": [
    "lang_series.head()"
   ]
  },
  {
   "cell_type": "code",
   "execution_count": 5,
   "metadata": {},
   "outputs": [
    {
     "name": "stdout",
     "output_type": "stream",
     "text": [
      "True\n"
     ]
    }
   ],
   "source": [
    "print(len(lang_series) == len(en_series))"
   ]
  },
  {
   "cell_type": "code",
   "execution_count": 6,
   "metadata": {},
   "outputs": [],
   "source": [
    "# Combine into a dataframe and randomly sample n rows\n",
    "n = 3_000_000\n",
    "\n",
    "lang_series = lang_series.reset_index(drop=True)\n",
    "en_series = en_series.reset_index(drop=True)\n",
    "\n",
    "lang_series_list = lang_series.values.tolist()\n",
    "en_series_list = en_series.values.tolist()\n",
    "\n",
    "# Flatten the lists\n",
    "lang_series_list = [item[0] for item in lang_series_list]\n",
    "en_series_list = [item[0] for item in en_series_list]\n",
    "\n",
    "\n",
    "df = pd.DataFrame({\n",
    "    'sentence': lang_series_list,\n",
    "    'translation': en_series_list\n",
    "})\n",
    "\n",
    "# First 100 or so lines are in English for some reason\n",
    "#df = df[df.index > 100]\n",
    "\n",
    "df_sample = df.sample(n, random_state=1)\n",
    "df_sample.to_csv(f'../input_files/{constants.language_code}/open_subtitles_uncleaned_sentences.csv', sep='\\t')"
   ]
  },
  {
   "cell_type": "code",
   "execution_count": 7,
   "metadata": {},
   "outputs": [],
   "source": [
    "# OLD DATASET\n",
    "\"\"\"\n",
    "filepath = os.path.join(f\"../input_files/{constants.language_code}\", \"uncleaned_sentences.csv\")\n",
    "df = pd.read_csv(filepath, delimiter='\\t', header=None)\n",
    "df.columns = [\"id\", \"sentence\"]\n",
    "\"\"\"\n",
    "\n",
    "filepath = os.path.join(f\"../input_files/{constants.language_code}\", \"open_subtitles_uncleaned_sentences.csv\")\n",
    "df = pd.read_csv(filepath, delimiter='\\t', header=None)\n",
    "df.columns = [\"id\", \"sentence\", \"translated_sentence\"]"
   ]
  },
  {
   "cell_type": "code",
   "execution_count": 8,
   "metadata": {},
   "outputs": [
    {
     "name": "stdout",
     "output_type": "stream",
     "text": [
      "<class 'pandas.core.frame.DataFrame'>\n",
      "RangeIndex: 3000001 entries, 0 to 3000000\n",
      "Data columns (total 3 columns):\n",
      " #   Column               Dtype  \n",
      "---  ------               -----  \n",
      " 0   id                   float64\n",
      " 1   sentence             object \n",
      " 2   translated_sentence  object \n",
      "dtypes: float64(1), object(2)\n",
      "memory usage: 68.7+ MB\n"
     ]
    }
   ],
   "source": [
    "df.info()"
   ]
  },
  {
   "cell_type": "code",
   "execution_count": 9,
   "metadata": {},
   "outputs": [
    {
     "data": {
      "text/html": [
       "<div>\n",
       "<style scoped>\n",
       "    .dataframe tbody tr th:only-of-type {\n",
       "        vertical-align: middle;\n",
       "    }\n",
       "\n",
       "    .dataframe tbody tr th {\n",
       "        vertical-align: top;\n",
       "    }\n",
       "\n",
       "    .dataframe thead th {\n",
       "        text-align: right;\n",
       "    }\n",
       "</style>\n",
       "<table border=\"1\" class=\"dataframe\">\n",
       "  <thead>\n",
       "    <tr style=\"text-align: right;\">\n",
       "      <th></th>\n",
       "      <th>id</th>\n",
       "      <th>sentence</th>\n",
       "      <th>translated_sentence</th>\n",
       "    </tr>\n",
       "  </thead>\n",
       "  <tbody>\n",
       "    <tr>\n",
       "      <th>0</th>\n",
       "      <td>NaN</td>\n",
       "      <td>sentence</td>\n",
       "      <td>translation</td>\n",
       "    </tr>\n",
       "    <tr>\n",
       "      <th>1</th>\n",
       "      <td>24166483.0</td>\n",
       "      <td>- Ты мне тоже не доверяешь.</td>\n",
       "      <td>Makes two of us, 'cause you don't trust me.</td>\n",
       "    </tr>\n",
       "    <tr>\n",
       "      <th>2</th>\n",
       "      <td>3434427.0</td>\n",
       "      <td>В пятом классе она уже курила.</td>\n",
       "      <td>She was already smoking in fifth grade.</td>\n",
       "    </tr>\n",
       "    <tr>\n",
       "      <th>3</th>\n",
       "      <td>23423900.0</td>\n",
       "      <td>Ну, знаешь, как это обычно с ней бывает.</td>\n",
       "      <td>You know how it is with her.</td>\n",
       "    </tr>\n",
       "    <tr>\n",
       "      <th>4</th>\n",
       "      <td>12658818.0</td>\n",
       "      <td>Так что вам срочно нужно начать химиотерапию. ...</td>\n",
       "      <td>So, yeah, we're gonna wanna start a round of c...</td>\n",
       "    </tr>\n",
       "  </tbody>\n",
       "</table>\n",
       "</div>"
      ],
      "text/plain": [
       "           id                                           sentence  \\\n",
       "0         NaN                                           sentence   \n",
       "1  24166483.0                        - Ты мне тоже не доверяешь.   \n",
       "2   3434427.0                     В пятом классе она уже курила.   \n",
       "3  23423900.0           Ну, знаешь, как это обычно с ней бывает.   \n",
       "4  12658818.0  Так что вам срочно нужно начать химиотерапию. ...   \n",
       "\n",
       "                                 translated_sentence  \n",
       "0                                        translation  \n",
       "1        Makes two of us, 'cause you don't trust me.  \n",
       "2            She was already smoking in fifth grade.  \n",
       "3                       You know how it is with her.  \n",
       "4  So, yeah, we're gonna wanna start a round of c...  "
      ]
     },
     "execution_count": 9,
     "metadata": {},
     "output_type": "execute_result"
    }
   ],
   "source": [
    "df.head()"
   ]
  },
  {
   "cell_type": "code",
   "execution_count": 10,
   "metadata": {},
   "outputs": [
    {
     "data": {
      "text/html": [
       "<div>\n",
       "<style scoped>\n",
       "    .dataframe tbody tr th:only-of-type {\n",
       "        vertical-align: middle;\n",
       "    }\n",
       "\n",
       "    .dataframe tbody tr th {\n",
       "        vertical-align: top;\n",
       "    }\n",
       "\n",
       "    .dataframe thead th {\n",
       "        text-align: right;\n",
       "    }\n",
       "</style>\n",
       "<table border=\"1\" class=\"dataframe\">\n",
       "  <thead>\n",
       "    <tr style=\"text-align: right;\">\n",
       "      <th></th>\n",
       "      <th>id</th>\n",
       "      <th>sentence</th>\n",
       "      <th>translated_sentence</th>\n",
       "    </tr>\n",
       "  </thead>\n",
       "  <tbody>\n",
       "    <tr>\n",
       "      <th>1557786</th>\n",
       "      <td>21923185.0</td>\n",
       "      <td>!</td>\n",
       "      <td>!</td>\n",
       "    </tr>\n",
       "    <tr>\n",
       "      <th>2956786</th>\n",
       "      <td>7699210.0</td>\n",
       "      <td>!</td>\n",
       "      <td>!</td>\n",
       "    </tr>\n",
       "    <tr>\n",
       "      <th>269284</th>\n",
       "      <td>7636048.0</td>\n",
       "      <td>!</td>\n",
       "      <td>What?</td>\n",
       "    </tr>\n",
       "    <tr>\n",
       "      <th>1661043</th>\n",
       "      <td>22867940.0</td>\n",
       "      <td>!</td>\n",
       "      <td>!</td>\n",
       "    </tr>\n",
       "    <tr>\n",
       "      <th>1932077</th>\n",
       "      <td>17262288.0</td>\n",
       "      <td>!</td>\n",
       "      <td>!</td>\n",
       "    </tr>\n",
       "    <tr>\n",
       "      <th>2762898</th>\n",
       "      <td>6410406.0</td>\n",
       "      <td>!</td>\n",
       "      <td>!</td>\n",
       "    </tr>\n",
       "    <tr>\n",
       "      <th>2762930</th>\n",
       "      <td>19865253.0</td>\n",
       "      <td>!</td>\n",
       "      <td>!</td>\n",
       "    </tr>\n",
       "    <tr>\n",
       "      <th>1159202</th>\n",
       "      <td>3772628.0</td>\n",
       "      <td>!</td>\n",
       "      <td>!</td>\n",
       "    </tr>\n",
       "  </tbody>\n",
       "</table>\n",
       "</div>"
      ],
      "text/plain": [
       "                 id sentence translated_sentence\n",
       "1557786  21923185.0        !                   !\n",
       "2956786   7699210.0        !                   !\n",
       "269284    7636048.0        !               What?\n",
       "1661043  22867940.0        !                   !\n",
       "1932077  17262288.0        !                   !\n",
       "2762898   6410406.0        !                   !\n",
       "2762930  19865253.0        !                   !\n",
       "1159202   3772628.0        !                   !"
      ]
     },
     "execution_count": 10,
     "metadata": {},
     "output_type": "execute_result"
    }
   ],
   "source": [
    "# Let's see if there are any duplicates in the dataset\n",
    "df[df[\"sentence\"].duplicated(keep=False)].sort_values(\"sentence\").head(8)"
   ]
  },
  {
   "cell_type": "code",
   "execution_count": 11,
   "metadata": {},
   "outputs": [
    {
     "data": {
      "text/plain": [
       "id                     float64\n",
       "sentence                object\n",
       "translated_sentence     object\n",
       "dtype: object"
      ]
     },
     "execution_count": 11,
     "metadata": {},
     "output_type": "execute_result"
    }
   ],
   "source": [
    "df.dtypes"
   ]
  },
  {
   "cell_type": "code",
   "execution_count": 12,
   "metadata": {},
   "outputs": [],
   "source": [
    "# Remove all duplicates from the dataframe\n",
    "df = df.drop_duplicates(\"sentence\")"
   ]
  },
  {
   "cell_type": "code",
   "execution_count": 13,
   "metadata": {},
   "outputs": [
    {
     "name": "stdout",
     "output_type": "stream",
     "text": [
      "Longest sentence: 2443 characters\n",
      "Comment: 0,0:02:15.95,0:02:17.85,Gold Jive-Silver Ocean,0,0,0,gradient @739 0,{\\alphaHFF\\t(0,160,\\alphaH00)\\t(1450,1610,\\alphaHFF)}1{\\alphaHFF\\t(17,177,\\alphaH00)\\t(1467,1627,\\alphaHFF)},{\\alphaHFF\\t(34,194,\\alphaH00)\\t(1484,1644,\\alphaHFF)}2{\\alphaHFF\\t(51,211,\\alphaH00)\\t(1501,1661,\\alphaHFF)},{\\alphaHFF\\t(68,228,\\alphaH00)\\t(1518,1678,\\alphaHFF)}3 {\\alphaHFF\\t(85,245,\\alphaH00)\\t(1535,1695,\\alphaHFF)}— {\\alphaHFF\\t(102,262,\\alphaH00)\\t(1552,1712,\\alphaHFF)}н{\\alphaHFF\\t(119,279,\\alphaH00)\\t(1569,1729,\\alphaHFF)}а{\\alphaHFF\\t(136,296,\\alphaH00)\\t(1586,1746,\\alphaHFF)}ч{\\alphaHFF\\t(153,313,\\a\n"
     ]
    }
   ],
   "source": [
    "lengths: pd.Series = df['sentence'].str.len()\n",
    "max_characters: int = lengths.max()\n",
    "max_index = lengths.idxmax()\n",
    "\n",
    "# Find the sentence with the most characters to see if there are any delimitation issues.\n",
    "print(f'Longest sentence: {max_characters} characters')\n",
    "print(df[df.index == max_index]['sentence'].values[0][:600]) # Print out first 600 characters"
   ]
  },
  {
   "cell_type": "code",
   "execution_count": 14,
   "metadata": {},
   "outputs": [],
   "source": [
    "# Cut off any sentences longer than 200 or \n",
    "# shorter than 30 characters\n",
    "df = df[\n",
    "    (df['sentence'].str.len() < 200)\n",
    "    & (df['sentence'].str.len() > 30)\n",
    "     ]\n"
   ]
  },
  {
   "cell_type": "code",
   "execution_count": 15,
   "metadata": {},
   "outputs": [
    {
     "name": "stdout",
     "output_type": "stream",
     "text": [
      "<class 'pandas.core.frame.DataFrame'>\n",
      "Index: 1125846 entries, 3 to 2999994\n",
      "Data columns (total 3 columns):\n",
      " #   Column               Non-Null Count    Dtype  \n",
      "---  ------               --------------    -----  \n",
      " 0   id                   1125846 non-null  float64\n",
      " 1   sentence             1125846 non-null  object \n",
      " 2   translated_sentence  1125846 non-null  object \n",
      "dtypes: float64(1), object(2)\n",
      "memory usage: 34.4+ MB\n"
     ]
    }
   ],
   "source": [
    "df.info()"
   ]
  },
  {
   "cell_type": "code",
   "execution_count": 16,
   "metadata": {},
   "outputs": [],
   "source": [
    "# Randomly sample n rows to get a reduced dataset for easier training while testing out this method. Set a seed for reproducability.\n",
    "#n_rows = 30000\n",
    "\n",
    "#reduced_df = df.sample(n=n_rows, random_state=1)"
   ]
  },
  {
   "cell_type": "code",
   "execution_count": 18,
   "metadata": {},
   "outputs": [],
   "source": [
    "# Remove id column and save dataframes as csv\n",
    "df.to_csv(f\"../output_files/{constants.language_code}/step0_sentences.csv\", sep='\\t', index=False)\n",
    "#reduced_df.to_csv(\"./french_sentences_reduced.csv\", sep='\\t', index=False)"
   ]
  },
  {
   "cell_type": "code",
   "execution_count": null,
   "metadata": {},
   "outputs": [],
   "source": []
  }
 ],
 "metadata": {
  "kernelspec": {
   "display_name": "venv",
   "language": "python",
   "name": "python3"
  },
  "language_info": {
   "codemirror_mode": {
    "name": "ipython",
    "version": 3
   },
   "file_extension": ".py",
   "mimetype": "text/x-python",
   "name": "python",
   "nbconvert_exporter": "python",
   "pygments_lexer": "ipython3",
   "version": "3.11.6"
  },
  "orig_nbformat": 4
 },
 "nbformat": 4,
 "nbformat_minor": 2
}
