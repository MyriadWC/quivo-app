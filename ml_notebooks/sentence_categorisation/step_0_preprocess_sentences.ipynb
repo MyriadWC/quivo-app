{
 "cells": [
  {
   "cell_type": "markdown",
   "metadata": {},
   "source": [
    "The best dataset I've found so far contains is tatoeba.\n",
    "\n",
    "https://tatoeba.org/fr/downloads\n",
    "\n",
    "Another is conversational sentences from film and series subtitles with translations for multiple languages:\n",
    "\n",
    "https://opus.nlpl.eu/OpenSubtitles-v2018.php\n",
    "https://github.com/PolyAI-LDN/conversational-datasets"
   ]
  },
  {
   "cell_type": "code",
   "execution_count": 20,
   "metadata": {},
   "outputs": [],
   "source": [
    "import os\n",
    "import constants\n",
    "import pandas as pd"
   ]
  },
  {
   "cell_type": "code",
   "execution_count": 21,
   "metadata": {},
   "outputs": [],
   "source": [
    "constants.language_code = 'de'"
   ]
  },
  {
   "cell_type": "code",
   "execution_count": 22,
   "metadata": {},
   "outputs": [
    {
     "name": "stderr",
     "output_type": "stream",
     "text": [
      "C:\\Users\\Toby Usher\\AppData\\Local\\Temp\\ipykernel_14444\\63767765.py:6: ParserWarning: Falling back to the 'python' engine because the 'c' engine does not support regex separators (separators > 1 char and different from '\\s+' are interpreted as regex); you can avoid this warning by specifying engine='python'.\n",
      "  df = pd.read_csv(filepath, sep='\\\\t')\n"
     ]
    }
   ],
   "source": [
    "#filepath_en = f\"../input_files/{constants.language_code}/open_subtitles/OpenSubtitles_en-{constants.language_code}.en\"\n",
    "#filepath_lang = f\"../input_files/{constants.language_code}/open_subtitles/OpenSubtitles_en-{constants.language_code}.{constants.language_code}\"\n",
    "\n",
    "filepath = f\"../input_files/{constants.language_code}/tatoeba_{constants.language_code}_en.tsv\"\n",
    "\n",
    "df = pd.read_csv(filepath, sep='\\\\t')\n",
    "#en_series = pd.read_csv(filepath_en, sep='\\\\t')\n",
    "#lang_series = pd.read_csv(filepath_lang, sep='\\\\t')"
   ]
  },
  {
   "cell_type": "code",
   "execution_count": 23,
   "metadata": {},
   "outputs": [
    {
     "data": {
      "text/html": [
       "<div>\n",
       "<style scoped>\n",
       "    .dataframe tbody tr th:only-of-type {\n",
       "        vertical-align: middle;\n",
       "    }\n",
       "\n",
       "    .dataframe tbody tr th {\n",
       "        vertical-align: top;\n",
       "    }\n",
       "\n",
       "    .dataframe thead th {\n",
       "        text-align: right;\n",
       "    }\n",
       "</style>\n",
       "<table border=\"1\" class=\"dataframe\">\n",
       "  <thead>\n",
       "    <tr style=\"text-align: right;\">\n",
       "      <th></th>\n",
       "      <th>77</th>\n",
       "      <th>Lass uns etwas versuchen!</th>\n",
       "      <th>1276</th>\n",
       "      <th>Let's try something.</th>\n",
       "    </tr>\n",
       "  </thead>\n",
       "  <tbody>\n",
       "    <tr>\n",
       "      <th>0</th>\n",
       "      <td>80</td>\n",
       "      <td>Was ist das?</td>\n",
       "      <td>42849</td>\n",
       "      <td>What is it?</td>\n",
       "    </tr>\n",
       "    <tr>\n",
       "      <th>1</th>\n",
       "      <td>80</td>\n",
       "      <td>Was ist das?</td>\n",
       "      <td>66989</td>\n",
       "      <td>What's that?</td>\n",
       "    </tr>\n",
       "    <tr>\n",
       "      <th>2</th>\n",
       "      <td>80</td>\n",
       "      <td>Was ist das?</td>\n",
       "      <td>392210</td>\n",
       "      <td>What is this?</td>\n",
       "    </tr>\n",
       "    <tr>\n",
       "      <th>3</th>\n",
       "      <td>80</td>\n",
       "      <td>Was ist das?</td>\n",
       "      <td>413821</td>\n",
       "      <td>What's this?</td>\n",
       "    </tr>\n",
       "    <tr>\n",
       "      <th>4</th>\n",
       "      <td>80</td>\n",
       "      <td>Was ist das?</td>\n",
       "      <td>464592</td>\n",
       "      <td>What is that?</td>\n",
       "    </tr>\n",
       "  </tbody>\n",
       "</table>\n",
       "</div>"
      ],
      "text/plain": [
       "   77 Lass uns etwas versuchen!    1276 Let's try something.\n",
       "0  80              Was ist das?   42849          What is it?\n",
       "1  80              Was ist das?   66989         What's that?\n",
       "2  80              Was ist das?  392210        What is this?\n",
       "3  80              Was ist das?  413821         What's this?\n",
       "4  80              Was ist das?  464592        What is that?"
      ]
     },
     "execution_count": 23,
     "metadata": {},
     "output_type": "execute_result"
    }
   ],
   "source": [
    "df.head()"
   ]
  },
  {
   "cell_type": "code",
   "execution_count": 24,
   "metadata": {},
   "outputs": [
    {
     "data": {
      "text/plain": [
       "<bound method DataFrame.count of               77                          Lass uns etwas versuchen!      1276  \\\n",
       "0             80                                       Was ist das?     42849   \n",
       "1             80                                       Was ist das?     66989   \n",
       "2             80                                       Was ist das?    392210   \n",
       "3             80                                       Was ist das?    413821   \n",
       "4             80                                       Was ist das?    464592   \n",
       "...          ...                                                ...       ...   \n",
       "482459  12434546                           Tom ist nicht zu trauen.   3405189   \n",
       "482460  12434546                           Tom ist nicht zu trauen.   3433971   \n",
       "482461  12434546                           Tom ist nicht zu trauen.   1026813   \n",
       "482462  12434547                         Tom kann man nicht trauen.   1026813   \n",
       "482463  12434595  Marcus fragte sich zum hundertsten Mal, was de...  12434594   \n",
       "\n",
       "                                     Let's try something.  \n",
       "0                                             What is it?  \n",
       "1                                            What's that?  \n",
       "2                                           What is this?  \n",
       "3                                            What's this?  \n",
       "4                                           What is that?  \n",
       "...                                                   ...  \n",
       "482459                           Tom isn't to be trusted.  \n",
       "482460                          Tom is not to be trusted.  \n",
       "482461                              Tom can't be trusted.  \n",
       "482462                              Tom can't be trusted.  \n",
       "482463  Mark asked himself for the hundredth time what...  \n",
       "\n",
       "[482464 rows x 4 columns]>"
      ]
     },
     "execution_count": 24,
     "metadata": {},
     "output_type": "execute_result"
    }
   ],
   "source": [
    "df.count"
   ]
  },
  {
   "cell_type": "code",
   "execution_count": 25,
   "metadata": {},
   "outputs": [],
   "source": [
    "# Only keep the sentence and translation columns\n",
    "df = pd.DataFrame({\n",
    "    'sentence': df.iloc[:, 1],\n",
    "    'translated_sentence': df.iloc[:, 3]\n",
    "})"
   ]
  },
  {
   "cell_type": "code",
   "execution_count": 26,
   "metadata": {},
   "outputs": [
    {
     "data": {
      "text/html": [
       "<div>\n",
       "<style scoped>\n",
       "    .dataframe tbody tr th:only-of-type {\n",
       "        vertical-align: middle;\n",
       "    }\n",
       "\n",
       "    .dataframe tbody tr th {\n",
       "        vertical-align: top;\n",
       "    }\n",
       "\n",
       "    .dataframe thead th {\n",
       "        text-align: right;\n",
       "    }\n",
       "</style>\n",
       "<table border=\"1\" class=\"dataframe\">\n",
       "  <thead>\n",
       "    <tr style=\"text-align: right;\">\n",
       "      <th></th>\n",
       "      <th>sentence</th>\n",
       "      <th>translated_sentence</th>\n",
       "    </tr>\n",
       "  </thead>\n",
       "  <tbody>\n",
       "    <tr>\n",
       "      <th>0</th>\n",
       "      <td>Was ist das?</td>\n",
       "      <td>What is it?</td>\n",
       "    </tr>\n",
       "    <tr>\n",
       "      <th>1</th>\n",
       "      <td>Was ist das?</td>\n",
       "      <td>What's that?</td>\n",
       "    </tr>\n",
       "    <tr>\n",
       "      <th>2</th>\n",
       "      <td>Was ist das?</td>\n",
       "      <td>What is this?</td>\n",
       "    </tr>\n",
       "    <tr>\n",
       "      <th>3</th>\n",
       "      <td>Was ist das?</td>\n",
       "      <td>What's this?</td>\n",
       "    </tr>\n",
       "    <tr>\n",
       "      <th>4</th>\n",
       "      <td>Was ist das?</td>\n",
       "      <td>What is that?</td>\n",
       "    </tr>\n",
       "  </tbody>\n",
       "</table>\n",
       "</div>"
      ],
      "text/plain": [
       "       sentence translated_sentence\n",
       "0  Was ist das?         What is it?\n",
       "1  Was ist das?        What's that?\n",
       "2  Was ist das?       What is this?\n",
       "3  Was ist das?        What's this?\n",
       "4  Was ist das?       What is that?"
      ]
     },
     "execution_count": 26,
     "metadata": {},
     "output_type": "execute_result"
    }
   ],
   "source": [
    "df.head()"
   ]
  },
  {
   "cell_type": "code",
   "execution_count": 27,
   "metadata": {},
   "outputs": [
    {
     "data": {
      "text/plain": [
       "\"# Combine into a dataframe and randomly sample n rows\\nn = 3_000_000\\n\\nlang_series = lang_series.reset_index(drop=True)\\nen_series = en_series.reset_index(drop=True)\\n\\nlang_series_list = lang_series.values.tolist()\\nen_series_list = en_series.values.tolist()\\n\\n# Flatten the lists\\nlang_series_list = [item[0] for item in lang_series_list]\\nen_series_list = [item[0] for item in en_series_list]\\n\\n\\ndf = pd.DataFrame({\\n    'sentence': lang_series_list,\\n    'translation': en_series_list\\n})\\n\\n# First 100 or so lines are in English for some reason\\n#df = df[df.index > 100]\\n\\ndf_sample = df.sample(n, random_state=1)\\ndf_sample.to_csv(f'../input_files/{constants.language_code}/open_subtitles_uncleaned_sentences.csv', sep='\\t')\\n\""
      ]
     },
     "execution_count": 27,
     "metadata": {},
     "output_type": "execute_result"
    }
   ],
   "source": [
    "\"\"\"# Combine into a dataframe and randomly sample n rows\n",
    "n = 3_000_000\n",
    "\n",
    "lang_series = lang_series.reset_index(drop=True)\n",
    "en_series = en_series.reset_index(drop=True)\n",
    "\n",
    "lang_series_list = lang_series.values.tolist()\n",
    "en_series_list = en_series.values.tolist()\n",
    "\n",
    "# Flatten the lists\n",
    "lang_series_list = [item[0] for item in lang_series_list]\n",
    "en_series_list = [item[0] for item in en_series_list]\n",
    "\n",
    "\n",
    "df = pd.DataFrame({\n",
    "    'sentence': lang_series_list,\n",
    "    'translation': en_series_list\n",
    "})\n",
    "\n",
    "# First 100 or so lines are in English for some reason\n",
    "#df = df[df.index > 100]\n",
    "\n",
    "df_sample = df.sample(n, random_state=1)\n",
    "df_sample.to_csv(f'../input_files/{constants.language_code}/open_subtitles_uncleaned_sentences.csv', sep='\\t')\n",
    "\"\"\""
   ]
  },
  {
   "cell_type": "code",
   "execution_count": 28,
   "metadata": {},
   "outputs": [
    {
     "name": "stdout",
     "output_type": "stream",
     "text": [
      "<class 'pandas.core.frame.DataFrame'>\n",
      "RangeIndex: 482464 entries, 0 to 482463\n",
      "Data columns (total 2 columns):\n",
      " #   Column               Non-Null Count   Dtype \n",
      "---  ------               --------------   ----- \n",
      " 0   sentence             482464 non-null  object\n",
      " 1   translated_sentence  482464 non-null  object\n",
      "dtypes: object(2)\n",
      "memory usage: 7.4+ MB\n"
     ]
    }
   ],
   "source": [
    "df.info()"
   ]
  },
  {
   "cell_type": "code",
   "execution_count": 29,
   "metadata": {},
   "outputs": [
    {
     "data": {
      "text/plain": [
       "<bound method DataFrame.count of                                                  sentence  \\\n",
       "62976   \"Arbeit macht frei\" ist ein Spruch, der in der...   \n",
       "62977   \"Arbeit macht frei\" ist ein Spruch, der in der...   \n",
       "333291       \"Gibt's was Neues?\" \"Nein, alles wie immer.\"   \n",
       "333292       \"Gibt's was Neues?\" \"Nein, alles wie immer.\"   \n",
       "393807                    \"Hallo!'' ''Hallo, wie geht's?\"   \n",
       "...                                                   ...   \n",
       "391507                „Wo wohntest du?“ – „In Amsterdam.“   \n",
       "417655  „Wollen wir bis morgen warten?“ – „Gut, aber n...   \n",
       "417656  „Wollen wir bis morgen warten?“ – „Gut, aber n...   \n",
       "332631  „Worauf hast du heute Lust? Auf italienisch, g...   \n",
       "332630  „Worauf hast du heute Lust? Auf italienisch, g...   \n",
       "\n",
       "                                      translated_sentence  \n",
       "62976   \"Arbeit macht frei\", meaning \"Work sets you fr...  \n",
       "62977   \"Arbeit macht frei\", meaning \"Work sets you fr...  \n",
       "333291                   \"Any news?\" \"No, same as usual.\"  \n",
       "333292     \"Any news?\" \"No, everything's still the same.\"  \n",
       "393807                        \"Hello!\" \"Hi, how are you?\"  \n",
       "...                                                   ...  \n",
       "391507                 \"Where did you live?\" \"Amsterdam.\"  \n",
       "417655  \"Shall we wait till tomorrow?\" \"All right, but...  \n",
       "417656  \"Should we wait until tomorrow?\" \"All right, b...  \n",
       "332631  \"What do you feel like today? Italian? Greek? ...  \n",
       "332630  \"What do you fancy today? Italian? Greek? Chin...  \n",
       "\n",
       "[124611 rows x 2 columns]>"
      ]
     },
     "execution_count": 29,
     "metadata": {},
     "output_type": "execute_result"
    }
   ],
   "source": [
    "# Let's see if there are any duplicates in the dataset\n",
    "df[df[\"sentence\"].duplicated(keep=False)].sort_values(\"sentence\").count"
   ]
  },
  {
   "cell_type": "code",
   "execution_count": 30,
   "metadata": {},
   "outputs": [
    {
     "data": {
      "text/plain": [
       "sentence               object\n",
       "translated_sentence    object\n",
       "dtype: object"
      ]
     },
     "execution_count": 30,
     "metadata": {},
     "output_type": "execute_result"
    }
   ],
   "source": [
    "df.dtypes"
   ]
  },
  {
   "cell_type": "code",
   "execution_count": 31,
   "metadata": {},
   "outputs": [],
   "source": [
    "# Remove all duplicates from the dataframe\n",
    "df = df.drop_duplicates(\"sentence\")"
   ]
  },
  {
   "cell_type": "code",
   "execution_count": 32,
   "metadata": {},
   "outputs": [
    {
     "data": {
      "text/plain": [
       "<bound method DataFrame.info of                                                  sentence  \\\n",
       "0                                            Was ist das?   \n",
       "5       Heute ist der 18. Juni und das ist der Geburts...   \n",
       "6         Herzlichen Glückwunsch zum Geburtstag, Muiriel!   \n",
       "7                                   Muiriel ist jetzt 20.   \n",
       "9                             Das Passwort ist \"Muiriel\".   \n",
       "...                                                   ...   \n",
       "482456                       Halte uns auf dem Laufenden.   \n",
       "482457                    Das ist keine gute Übersetzung.   \n",
       "482459                           Tom ist nicht zu trauen.   \n",
       "482462                         Tom kann man nicht trauen.   \n",
       "482463  Marcus fragte sich zum hundertsten Mal, was de...   \n",
       "\n",
       "                                      translated_sentence  \n",
       "0                                             What is it?  \n",
       "5        Today is June 18th and it is Muiriel's birthday!  \n",
       "6                                Happy birthday, Muiriel!  \n",
       "7                                      Muiriel is 20 now.  \n",
       "9                              The password is \"Muiriel\".  \n",
       "...                                                   ...  \n",
       "482456                                   Keep us updated.  \n",
       "482457                       It's not a good translation.  \n",
       "482459                           Tom isn't to be trusted.  \n",
       "482462                              Tom can't be trusted.  \n",
       "482463  Mark asked himself for the hundredth time what...  \n",
       "\n",
       "[410805 rows x 2 columns]>"
      ]
     },
     "execution_count": 32,
     "metadata": {},
     "output_type": "execute_result"
    }
   ],
   "source": [
    "df.info"
   ]
  },
  {
   "cell_type": "code",
   "execution_count": 33,
   "metadata": {},
   "outputs": [
    {
     "name": "stdout",
     "output_type": "stream",
     "text": [
      "Longest sentence: 1427 characters\n",
      "In diesem Stadium der Weltgeschichte gibt es so etwas wie eine unabhängige Presse in den Vereinigten Staaten von Amerika nicht. Sie wissen es und ich weiß es. Unter Ihnen ist nicht Einer, der sich traut, seine ehrliche Meinung zu schreiben, und täten Sie es, wüssten Sie von vornherein, dass es niemals gedruckt werden würde. Ich werde wöchentlich dafür bezahlt, dass ich meine ehrlichen Ansichten draußenlasse aus der Zeitung, mit der ich in Verbindung stehe. Andere unter Ihnen bekommen vergleichbare Gehälter bezahlt für vergleichbare Dinge, und jeder von Ihnen, der so töricht wäre, ehrliche Ansi\n"
     ]
    }
   ],
   "source": [
    "lengths: pd.Series = df['sentence'].str.len()\n",
    "max_characters: int = lengths.max()\n",
    "max_index = lengths.idxmax()\n",
    "\n",
    "# Find the sentence with the most characters to see if there are any delimitation issues.\n",
    "print(f'Longest sentence: {max_characters} characters')\n",
    "print(df[df.index == max_index]['sentence'].values[0][:600]) # Print out first 600 characters"
   ]
  },
  {
   "cell_type": "code",
   "execution_count": 34,
   "metadata": {},
   "outputs": [],
   "source": [
    "# Cut off any sentences longer than 200 or \n",
    "# shorter than 30 characters\n",
    "df = df[\n",
    "    (df['sentence'].str.len() < 200)\n",
    "    & (df['sentence'].str.len() > (15 if constants.language_code == 'th' else 30)) # setting to 30 cuts out most thai sentences\n",
    "     ]\n"
   ]
  },
  {
   "cell_type": "code",
   "execution_count": 35,
   "metadata": {},
   "outputs": [
    {
     "name": "stdout",
     "output_type": "stream",
     "text": [
      "<class 'pandas.core.frame.DataFrame'>\n",
      "Index: 271818 entries, 5 to 482463\n",
      "Data columns (total 2 columns):\n",
      " #   Column               Non-Null Count   Dtype \n",
      "---  ------               --------------   ----- \n",
      " 0   sentence             271818 non-null  object\n",
      " 1   translated_sentence  271818 non-null  object\n",
      "dtypes: object(2)\n",
      "memory usage: 6.2+ MB\n"
     ]
    }
   ],
   "source": [
    "df.info()"
   ]
  },
  {
   "cell_type": "code",
   "execution_count": 36,
   "metadata": {},
   "outputs": [],
   "source": [
    "# Randomly sample n rows to get a reduced dataset for easier training while testing out this method. Set a seed for reproducability.\n",
    "#n_rows = 30000\n",
    "\n",
    "#reduced_df = df.sample(n=n_rows, random_state=1)"
   ]
  },
  {
   "cell_type": "code",
   "execution_count": 37,
   "metadata": {},
   "outputs": [],
   "source": [
    "# Remove id column and save dataframes as csv\n",
    "df.to_csv(f\"../output_files/{constants.language_code}/step0_sentences.csv\", sep='\\t', index=False)\n",
    "#reduced_df.to_csv(\"./french_sentences_reduced.csv\", sep='\\t', index=False)"
   ]
  },
  {
   "cell_type": "code",
   "execution_count": null,
   "metadata": {},
   "outputs": [],
   "source": []
  }
 ],
 "metadata": {
  "kernelspec": {
   "display_name": "venv",
   "language": "python",
   "name": "python3"
  },
  "language_info": {
   "codemirror_mode": {
    "name": "ipython",
    "version": 3
   },
   "file_extension": ".py",
   "mimetype": "text/x-python",
   "name": "python",
   "nbconvert_exporter": "python",
   "pygments_lexer": "ipython3",
   "version": "3.11.9"
  },
  "orig_nbformat": 4
 },
 "nbformat": 4,
 "nbformat_minor": 2
}
