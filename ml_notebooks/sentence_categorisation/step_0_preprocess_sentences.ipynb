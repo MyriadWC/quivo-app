{
 "cells": [
  {
   "cell_type": "markdown",
   "metadata": {},
   "source": [
    "The best dataset I've found so far contains conversational sentences from film and series subtitles with translations for multiple languages:\n",
    "\n",
    "https://opus.nlpl.eu/OpenSubtitles-v2018.php\n",
    "https://github.com/PolyAI-LDN/conversational-datasets"
   ]
  },
  {
   "cell_type": "code",
   "execution_count": 1,
   "metadata": {},
   "outputs": [],
   "source": [
    "import os\n",
    "import constants\n",
    "import pandas as pd"
   ]
  },
  {
   "cell_type": "code",
   "execution_count": 2,
   "metadata": {},
   "outputs": [],
   "source": [
    "constants.language_code = 'th'"
   ]
  },
  {
   "cell_type": "code",
   "execution_count": 4,
   "metadata": {},
   "outputs": [
    {
     "name": "stderr",
     "output_type": "stream",
     "text": [
      "C:\\Users\\Toby Usher\\AppData\\Local\\Temp\\ipykernel_4636\\485512561.py:4: ParserWarning: Falling back to the 'python' engine because the 'c' engine does not support regex separators (separators > 1 char and different from '\\s+' are interpreted as regex); you can avoid this warning by specifying engine='python'.\n",
      "  en_series = pd.read_csv(filepath_en, sep='\\\\t')\n",
      "C:\\Users\\Toby Usher\\AppData\\Local\\Temp\\ipykernel_4636\\485512561.py:5: ParserWarning: Falling back to the 'python' engine because the 'c' engine does not support regex separators (separators > 1 char and different from '\\s+' are interpreted as regex); you can avoid this warning by specifying engine='python'.\n",
      "  lang_series = pd.read_csv(filepath_lang, sep='\\\\t')\n"
     ]
    }
   ],
   "source": [
    "filepath_en = f\"../input_files/{constants.language_code}/open_subtitles/OpenSubtitles_en-{constants.language_code}.en\"\n",
    "filepath_lang = f\"../input_files/{constants.language_code}/open_subtitles/OpenSubtitles_en-{constants.language_code}.{constants.language_code}\"\n",
    "\n",
    "en_series = pd.read_csv(filepath_en, sep='\\\\t')\n",
    "lang_series = pd.read_csv(filepath_lang, sep='\\\\t')"
   ]
  },
  {
   "cell_type": "code",
   "execution_count": 5,
   "metadata": {},
   "outputs": [
    {
     "data": {
      "text/html": [
       "<div>\n",
       "<style scoped>\n",
       "    .dataframe tbody tr th:only-of-type {\n",
       "        vertical-align: middle;\n",
       "    }\n",
       "\n",
       "    .dataframe tbody tr th {\n",
       "        vertical-align: top;\n",
       "    }\n",
       "\n",
       "    .dataframe thead th {\n",
       "        text-align: right;\n",
       "    }\n",
       "</style>\n",
       "<table border=\"1\" class=\"dataframe\">\n",
       "  <thead>\n",
       "    <tr style=\"text-align: right;\">\n",
       "      <th></th>\n",
       "      <th>ทาสในกระจกวิเศษ, มาจากพื้นที่ที่ไกลที่สุด</th>\n",
       "    </tr>\n",
       "  </thead>\n",
       "  <tbody>\n",
       "    <tr>\n",
       "      <th>0</th>\n",
       "      <td>ผ่านลมและความมืดฉันเรียกเจ้า</td>\n",
       "    </tr>\n",
       "    <tr>\n",
       "      <th>1</th>\n",
       "      <td>พูด!</td>\n",
       "    </tr>\n",
       "    <tr>\n",
       "      <th>2</th>\n",
       "      <td>ให้ฉันเห็นพระพักตร์ของ พระองค์</td>\n",
       "    </tr>\n",
       "    <tr>\n",
       "      <th>3</th>\n",
       "      <td>สิ่งที่เจ้าจะรู้ว่าสมเด็จพระราชินี ของฉันได้อย...</td>\n",
       "    </tr>\n",
       "    <tr>\n",
       "      <th>4</th>\n",
       "      <td>กระจกวิเศษบนผนัง ผู้ที่เป็นสังขารหนึ่งทั้งหมด ...</td>\n",
       "    </tr>\n",
       "  </tbody>\n",
       "</table>\n",
       "</div>"
      ],
      "text/plain": [
       "           ทาสในกระจกวิเศษ, มาจากพื้นที่ที่ไกลที่สุด\n",
       "0                       ผ่านลมและความมืดฉันเรียกเจ้า\n",
       "1                                               พูด!\n",
       "2                     ให้ฉันเห็นพระพักตร์ของ พระองค์\n",
       "3  สิ่งที่เจ้าจะรู้ว่าสมเด็จพระราชินี ของฉันได้อย...\n",
       "4  กระจกวิเศษบนผนัง ผู้ที่เป็นสังขารหนึ่งทั้งหมด ..."
      ]
     },
     "execution_count": 5,
     "metadata": {},
     "output_type": "execute_result"
    }
   ],
   "source": [
    "lang_series.head()"
   ]
  },
  {
   "cell_type": "code",
   "execution_count": 7,
   "metadata": {},
   "outputs": [
    {
     "name": "stdout",
     "output_type": "stream",
     "text": [
      "True\n",
      "Number of entries: 3281532\n"
     ]
    }
   ],
   "source": [
    "print(len(lang_series) == len(en_series))\n",
    "print(f'Number of entries: {len(lang_series)}')"
   ]
  },
  {
   "cell_type": "code",
   "execution_count": 8,
   "metadata": {},
   "outputs": [],
   "source": [
    "# Combine into a dataframe and randomly sample n rows\n",
    "n = 3_000_000\n",
    "\n",
    "lang_series = lang_series.reset_index(drop=True)\n",
    "en_series = en_series.reset_index(drop=True)\n",
    "\n",
    "lang_series_list = lang_series.values.tolist()\n",
    "en_series_list = en_series.values.tolist()\n",
    "\n",
    "# Flatten the lists\n",
    "lang_series_list = [item[0] for item in lang_series_list]\n",
    "en_series_list = [item[0] for item in en_series_list]\n",
    "\n",
    "\n",
    "df = pd.DataFrame({\n",
    "    'sentence': lang_series_list,\n",
    "    'translation': en_series_list\n",
    "})\n",
    "\n",
    "# First 100 or so lines are in English for some reason\n",
    "#df = df[df.index > 100]\n",
    "\n",
    "df_sample = df.sample(n, random_state=1)\n",
    "df_sample.to_csv(f'../input_files/{constants.language_code}/open_subtitles_uncleaned_sentences.csv', sep='\\t')"
   ]
  },
  {
   "cell_type": "code",
   "execution_count": 9,
   "metadata": {},
   "outputs": [],
   "source": [
    "# OLD DATASET\n",
    "\"\"\"\n",
    "filepath = os.path.join(f\"../input_files/{constants.language_code}\", \"uncleaned_sentences.csv\")\n",
    "df = pd.read_csv(filepath, delimiter='\\t', header=None)\n",
    "df.columns = [\"id\", \"sentence\"]\n",
    "\"\"\"\n",
    "\n",
    "filepath = os.path.join(f\"../input_files/{constants.language_code}\", \"open_subtitles_uncleaned_sentences.csv\")\n",
    "df = pd.read_csv(filepath, delimiter='\\t', header=None)\n",
    "df.columns = [\"id\", \"sentence\", \"translated_sentence\"]"
   ]
  },
  {
   "cell_type": "code",
   "execution_count": 10,
   "metadata": {},
   "outputs": [
    {
     "name": "stdout",
     "output_type": "stream",
     "text": [
      "<class 'pandas.core.frame.DataFrame'>\n",
      "RangeIndex: 3000001 entries, 0 to 3000000\n",
      "Data columns (total 3 columns):\n",
      " #   Column               Dtype  \n",
      "---  ------               -----  \n",
      " 0   id                   float64\n",
      " 1   sentence             object \n",
      " 2   translated_sentence  object \n",
      "dtypes: float64(1), object(2)\n",
      "memory usage: 68.7+ MB\n"
     ]
    }
   ],
   "source": [
    "df.info()"
   ]
  },
  {
   "cell_type": "code",
   "execution_count": 11,
   "metadata": {},
   "outputs": [
    {
     "data": {
      "text/html": [
       "<div>\n",
       "<style scoped>\n",
       "    .dataframe tbody tr th:only-of-type {\n",
       "        vertical-align: middle;\n",
       "    }\n",
       "\n",
       "    .dataframe tbody tr th {\n",
       "        vertical-align: top;\n",
       "    }\n",
       "\n",
       "    .dataframe thead th {\n",
       "        text-align: right;\n",
       "    }\n",
       "</style>\n",
       "<table border=\"1\" class=\"dataframe\">\n",
       "  <thead>\n",
       "    <tr style=\"text-align: right;\">\n",
       "      <th></th>\n",
       "      <th>id</th>\n",
       "      <th>sentence</th>\n",
       "      <th>translated_sentence</th>\n",
       "    </tr>\n",
       "  </thead>\n",
       "  <tbody>\n",
       "    <tr>\n",
       "      <th>0</th>\n",
       "      <td>NaN</td>\n",
       "      <td>sentence</td>\n",
       "      <td>translation</td>\n",
       "    </tr>\n",
       "    <tr>\n",
       "      <th>1</th>\n",
       "      <td>1116037.0</td>\n",
       "      <td>อะไร?</td>\n",
       "      <td>What?</td>\n",
       "    </tr>\n",
       "    <tr>\n",
       "      <th>2</th>\n",
       "      <td>220465.0</td>\n",
       "      <td>นี่ค่ะที่รัก ให้หลับได้ง่ายบนเครื่องค่ะ</td>\n",
       "      <td>Here. Sweetie. Just take one of these to help ...</td>\n",
       "    </tr>\n",
       "    <tr>\n",
       "      <th>3</th>\n",
       "      <td>848749.0</td>\n",
       "      <td>- ว่า...</td>\n",
       "      <td>- And?</td>\n",
       "    </tr>\n",
       "    <tr>\n",
       "      <th>4</th>\n",
       "      <td>2248740.0</td>\n",
       "      <td>ช่างเป็นสุภาพสตรีจริงๆ</td>\n",
       "      <td>You are a classy lady.</td>\n",
       "    </tr>\n",
       "  </tbody>\n",
       "</table>\n",
       "</div>"
      ],
      "text/plain": [
       "          id                                 sentence  \\\n",
       "0        NaN                                 sentence   \n",
       "1  1116037.0                                    อะไร?   \n",
       "2   220465.0  นี่ค่ะที่รัก ให้หลับได้ง่ายบนเครื่องค่ะ   \n",
       "3   848749.0                                 - ว่า...   \n",
       "4  2248740.0                   ช่างเป็นสุภาพสตรีจริงๆ   \n",
       "\n",
       "                                 translated_sentence  \n",
       "0                                        translation  \n",
       "1                                              What?  \n",
       "2  Here. Sweetie. Just take one of these to help ...  \n",
       "3                                             - And?  \n",
       "4                             You are a classy lady.  "
      ]
     },
     "execution_count": 11,
     "metadata": {},
     "output_type": "execute_result"
    }
   ],
   "source": [
    "df.head()"
   ]
  },
  {
   "cell_type": "code",
   "execution_count": 12,
   "metadata": {},
   "outputs": [
    {
     "data": {
      "text/html": [
       "<div>\n",
       "<style scoped>\n",
       "    .dataframe tbody tr th:only-of-type {\n",
       "        vertical-align: middle;\n",
       "    }\n",
       "\n",
       "    .dataframe tbody tr th {\n",
       "        vertical-align: top;\n",
       "    }\n",
       "\n",
       "    .dataframe thead th {\n",
       "        text-align: right;\n",
       "    }\n",
       "</style>\n",
       "<table border=\"1\" class=\"dataframe\">\n",
       "  <thead>\n",
       "    <tr style=\"text-align: right;\">\n",
       "      <th></th>\n",
       "      <th>id</th>\n",
       "      <th>sentence</th>\n",
       "      <th>translated_sentence</th>\n",
       "    </tr>\n",
       "  </thead>\n",
       "  <tbody>\n",
       "    <tr>\n",
       "      <th>144251</th>\n",
       "      <td>2819307.0</td>\n",
       "      <td>!</td>\n",
       "      <td>!</td>\n",
       "    </tr>\n",
       "    <tr>\n",
       "      <th>2050728</th>\n",
       "      <td>3028639.0</td>\n",
       "      <td>!</td>\n",
       "      <td>You want to contaminate the whole damn sample?</td>\n",
       "    </tr>\n",
       "    <tr>\n",
       "      <th>1073639</th>\n",
       "      <td>352802.0</td>\n",
       "      <td>!</td>\n",
       "      <td>!</td>\n",
       "    </tr>\n",
       "    <tr>\n",
       "      <th>763706</th>\n",
       "      <td>2224500.0</td>\n",
       "      <td>!</td>\n",
       "      <td>!</td>\n",
       "    </tr>\n",
       "    <tr>\n",
       "      <th>1662933</th>\n",
       "      <td>352471.0</td>\n",
       "      <td>!</td>\n",
       "      <td>!</td>\n",
       "    </tr>\n",
       "    <tr>\n",
       "      <th>1269072</th>\n",
       "      <td>2327854.0</td>\n",
       "      <td>!</td>\n",
       "      <td>Please just talk to me.</td>\n",
       "    </tr>\n",
       "    <tr>\n",
       "      <th>2046295</th>\n",
       "      <td>352695.0</td>\n",
       "      <td>!</td>\n",
       "      <td>!</td>\n",
       "    </tr>\n",
       "    <tr>\n",
       "      <th>2044669</th>\n",
       "      <td>970718.0</td>\n",
       "      <td>!</td>\n",
       "      <td>!</td>\n",
       "    </tr>\n",
       "  </tbody>\n",
       "</table>\n",
       "</div>"
      ],
      "text/plain": [
       "                id sentence                             translated_sentence\n",
       "144251   2819307.0        !                                               !\n",
       "2050728  3028639.0        !  You want to contaminate the whole damn sample?\n",
       "1073639   352802.0        !                                               !\n",
       "763706   2224500.0        !                                               !\n",
       "1662933   352471.0        !                                               !\n",
       "1269072  2327854.0        !                         Please just talk to me.\n",
       "2046295   352695.0        !                                               !\n",
       "2044669   970718.0        !                                               !"
      ]
     },
     "execution_count": 12,
     "metadata": {},
     "output_type": "execute_result"
    }
   ],
   "source": [
    "# Let's see if there are any duplicates in the dataset\n",
    "df[df[\"sentence\"].duplicated(keep=False)].sort_values(\"sentence\").head(8)"
   ]
  },
  {
   "cell_type": "code",
   "execution_count": 13,
   "metadata": {},
   "outputs": [
    {
     "data": {
      "text/plain": [
       "id                     float64\n",
       "sentence                object\n",
       "translated_sentence     object\n",
       "dtype: object"
      ]
     },
     "execution_count": 13,
     "metadata": {},
     "output_type": "execute_result"
    }
   ],
   "source": [
    "df.dtypes"
   ]
  },
  {
   "cell_type": "code",
   "execution_count": 14,
   "metadata": {},
   "outputs": [],
   "source": [
    "# Remove all duplicates from the dataframe\n",
    "df = df.drop_duplicates(\"sentence\")"
   ]
  },
  {
   "cell_type": "code",
   "execution_count": 15,
   "metadata": {},
   "outputs": [
    {
     "name": "stdout",
     "output_type": "stream",
     "text": [
      "Longest sentence: 436 characters\n",
      "เธกเธตเธญเธธเธเธฑเธเธดเนเธซเธเธธเนเธฅเนเธเนเธเนเธญเธขเน เธเธญเธเธเธตเนเนเธฃเธฒเนเธเธชเธญเธเนเธเธกเธเธฃเธฑเนเธเธฅเนเธฒเธชเธธเ เธเธกเนเธกเนเธญเธขเธฒเธเธเธฐเนเธฃเธตเธขเธเธกเธฑเธเธงเนเธฒ เธเนเธงเธเนเธงเธฅเธฒเธเธตเนเธกเธตเธเธงเธฒเธกเนเธเนเธเธเนเธงเธขเธเธฒเ เธญเธขเนเธฒเธเธเธฑเธเธเธเธเธตเนเธเธนเธเธชเธฐเธเธเธเธดเธ เนเธซเนเนเธเธญเธขเธนเนเนเธเธฅเนเธเธญเธเธซเธเนเธฒเธเธฒ\n"
     ]
    }
   ],
   "source": [
    "lengths: pd.Series = df['sentence'].str.len()\n",
    "max_characters: int = lengths.max()\n",
    "max_index = lengths.idxmax()\n",
    "\n",
    "# Find the sentence with the most characters to see if there are any delimitation issues.\n",
    "print(f'Longest sentence: {max_characters} characters')\n",
    "print(df[df.index == max_index]['sentence'].values[0][:600]) # Print out first 600 characters"
   ]
  },
  {
   "cell_type": "code",
   "execution_count": 16,
   "metadata": {},
   "outputs": [],
   "source": [
    "# Cut off any sentences longer than 200 or \n",
    "# shorter than 30 characters\n",
    "df = df[\n",
    "    (df['sentence'].str.len() < 200)\n",
    "    & (df['sentence'].str.len() > 30)\n",
    "     ]\n"
   ]
  },
  {
   "cell_type": "code",
   "execution_count": 17,
   "metadata": {},
   "outputs": [
    {
     "name": "stdout",
     "output_type": "stream",
     "text": [
      "<class 'pandas.core.frame.DataFrame'>\n",
      "Index: 1085042 entries, 2 to 3000000\n",
      "Data columns (total 3 columns):\n",
      " #   Column               Non-Null Count    Dtype  \n",
      "---  ------               --------------    -----  \n",
      " 0   id                   1085042 non-null  float64\n",
      " 1   sentence             1085042 non-null  object \n",
      " 2   translated_sentence  1085042 non-null  object \n",
      "dtypes: float64(1), object(2)\n",
      "memory usage: 33.1+ MB\n"
     ]
    }
   ],
   "source": [
    "df.info()"
   ]
  },
  {
   "cell_type": "code",
   "execution_count": 16,
   "metadata": {},
   "outputs": [],
   "source": [
    "# Randomly sample n rows to get a reduced dataset for easier training while testing out this method. Set a seed for reproducability.\n",
    "#n_rows = 30000\n",
    "\n",
    "#reduced_df = df.sample(n=n_rows, random_state=1)"
   ]
  },
  {
   "cell_type": "code",
   "execution_count": 18,
   "metadata": {},
   "outputs": [],
   "source": [
    "# Remove id column and save dataframes as csv\n",
    "df.to_csv(f\"../output_files/{constants.language_code}/step0_sentences.csv\", sep='\\t', index=False)\n",
    "#reduced_df.to_csv(\"./french_sentences_reduced.csv\", sep='\\t', index=False)"
   ]
  },
  {
   "cell_type": "code",
   "execution_count": null,
   "metadata": {},
   "outputs": [],
   "source": []
  }
 ],
 "metadata": {
  "kernelspec": {
   "display_name": "venv",
   "language": "python",
   "name": "python3"
  },
  "language_info": {
   "codemirror_mode": {
    "name": "ipython",
    "version": 3
   },
   "file_extension": ".py",
   "mimetype": "text/x-python",
   "name": "python",
   "nbconvert_exporter": "python",
   "pygments_lexer": "ipython3",
   "version": "3.11.6"
  },
  "orig_nbformat": 4
 },
 "nbformat": 4,
 "nbformat_minor": 2
}
