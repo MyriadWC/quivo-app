{
 "cells": [
  {
   "cell_type": "markdown",
   "metadata": {},
   "source": [
    "The best dataset I've found so far contains is tatoeba.\n",
    "\n",
    "https://tatoeba.org/fr/downloads\n",
    "\n",
    "Another is conversational sentences from film and series subtitles with translations for multiple languages:\n",
    "\n",
    "https://opus.nlpl.eu/OpenSubtitles-v2018.php\n",
    "https://github.com/PolyAI-LDN/conversational-datasets"
   ]
  },
  {
   "cell_type": "code",
   "execution_count": 87,
   "metadata": {},
   "outputs": [],
   "source": [
    "import os\n",
    "import constants\n",
    "import pandas as pd"
   ]
  },
  {
   "cell_type": "code",
   "execution_count": 88,
   "metadata": {},
   "outputs": [],
   "source": [
    "constants.language_code = 'fr'"
   ]
  },
  {
   "cell_type": "code",
   "execution_count": 89,
   "metadata": {},
   "outputs": [
    {
     "name": "stderr",
     "output_type": "stream",
     "text": [
      "C:\\Users\\Toby Usher\\AppData\\Local\\Temp\\ipykernel_19220\\63767765.py:6: ParserWarning: Falling back to the 'python' engine because the 'c' engine does not support regex separators (separators > 1 char and different from '\\s+' are interpreted as regex); you can avoid this warning by specifying engine='python'.\n",
      "  df = pd.read_csv(filepath, sep='\\\\t')\n"
     ]
    }
   ],
   "source": [
    "#filepath_en = f\"../input_files/{constants.language_code}/open_subtitles/OpenSubtitles_en-{constants.language_code}.en\"\n",
    "#filepath_lang = f\"../input_files/{constants.language_code}/open_subtitles/OpenSubtitles_en-{constants.language_code}.{constants.language_code}\"\n",
    "\n",
    "filepath = f\"../input_files/{constants.language_code}/tatoeba_{constants.language_code}_en.tsv\"\n",
    "\n",
    "df = pd.read_csv(filepath, sep='\\\\t')\n",
    "#en_series = pd.read_csv(filepath_en, sep='\\\\t')\n",
    "#lang_series = pd.read_csv(filepath_lang, sep='\\\\t')"
   ]
  },
  {
   "cell_type": "code",
   "execution_count": 90,
   "metadata": {},
   "outputs": [
    {
     "data": {
      "text/html": [
       "<div>\n",
       "<style scoped>\n",
       "    .dataframe tbody tr th:only-of-type {\n",
       "        vertical-align: middle;\n",
       "    }\n",
       "\n",
       "    .dataframe tbody tr th {\n",
       "        vertical-align: top;\n",
       "    }\n",
       "\n",
       "    .dataframe thead th {\n",
       "        text-align: right;\n",
       "    }\n",
       "</style>\n",
       "<table border=\"1\" class=\"dataframe\">\n",
       "  <thead>\n",
       "    <tr style=\"text-align: right;\">\n",
       "      <th></th>\n",
       "      <th>1115</th>\n",
       "      <th>Lorsqu'il a demandé qui avait cassé la fenêtre, tous les garçons ont pris un air innocent.</th>\n",
       "      <th>276353</th>\n",
       "      <th>When he asked who had broken the window, all the boys put on an air of innocence.</th>\n",
       "    </tr>\n",
       "  </thead>\n",
       "  <tbody>\n",
       "    <tr>\n",
       "      <th>0</th>\n",
       "      <td>1115</td>\n",
       "      <td>Lorsqu'il a demandé qui avait cassé la fenêtre...</td>\n",
       "      <td>2193466</td>\n",
       "      <td>Then, when he asked who had broken the window,...</td>\n",
       "    </tr>\n",
       "    <tr>\n",
       "      <th>1</th>\n",
       "      <td>1279</td>\n",
       "      <td>Je ne supporte pas ce type.</td>\n",
       "      <td>72044</td>\n",
       "      <td>I can't abide that fellow.</td>\n",
       "    </tr>\n",
       "    <tr>\n",
       "      <th>2</th>\n",
       "      <td>1279</td>\n",
       "      <td>Je ne supporte pas ce type.</td>\n",
       "      <td>252648</td>\n",
       "      <td>I can't bear that fellow.</td>\n",
       "    </tr>\n",
       "    <tr>\n",
       "      <th>3</th>\n",
       "      <td>1279</td>\n",
       "      <td>Je ne supporte pas ce type.</td>\n",
       "      <td>1103153</td>\n",
       "      <td>I can't stand that guy.</td>\n",
       "    </tr>\n",
       "    <tr>\n",
       "      <th>4</th>\n",
       "      <td>1441</td>\n",
       "      <td>Pour une fois dans ma vie je fais un bon geste...</td>\n",
       "      <td>3257</td>\n",
       "      <td>For once in my life I'm doing a good deed... A...</td>\n",
       "    </tr>\n",
       "  </tbody>\n",
       "</table>\n",
       "</div>"
      ],
      "text/plain": [
       "   1115  \\\n",
       "0  1115   \n",
       "1  1279   \n",
       "2  1279   \n",
       "3  1279   \n",
       "4  1441   \n",
       "\n",
       "  Lorsqu'il a demandé qui avait cassé la fenêtre, tous les garçons ont pris un air innocent.  \\\n",
       "0  Lorsqu'il a demandé qui avait cassé la fenêtre...                                           \n",
       "1                        Je ne supporte pas ce type.                                           \n",
       "2                        Je ne supporte pas ce type.                                           \n",
       "3                        Je ne supporte pas ce type.                                           \n",
       "4  Pour une fois dans ma vie je fais un bon geste...                                           \n",
       "\n",
       "    276353  \\\n",
       "0  2193466   \n",
       "1    72044   \n",
       "2   252648   \n",
       "3  1103153   \n",
       "4     3257   \n",
       "\n",
       "  When he asked who had broken the window, all the boys put on an air of innocence.  \n",
       "0  Then, when he asked who had broken the window,...                                 \n",
       "1                         I can't abide that fellow.                                 \n",
       "2                          I can't bear that fellow.                                 \n",
       "3                            I can't stand that guy.                                 \n",
       "4  For once in my life I'm doing a good deed... A...                                 "
      ]
     },
     "execution_count": 90,
     "metadata": {},
     "output_type": "execute_result"
    }
   ],
   "source": [
    "df.head()"
   ]
  },
  {
   "cell_type": "code",
   "execution_count": 91,
   "metadata": {},
   "outputs": [
    {
     "data": {
      "text/plain": [
       "<bound method DataFrame.count of             1115  \\\n",
       "0           1115   \n",
       "1           1279   \n",
       "2           1279   \n",
       "3           1279   \n",
       "4           1441   \n",
       "...          ...   \n",
       "399791  12433696   \n",
       "399792  12433775   \n",
       "399793  12433792   \n",
       "399794  12433793   \n",
       "399795  12434387   \n",
       "\n",
       "       Lorsqu'il a demandé qui avait cassé la fenêtre, tous les garçons ont pris un air innocent.  \\\n",
       "0       Lorsqu'il a demandé qui avait cassé la fenêtre...                                           \n",
       "1                             Je ne supporte pas ce type.                                           \n",
       "2                             Je ne supporte pas ce type.                                           \n",
       "3                             Je ne supporte pas ce type.                                           \n",
       "4       Pour une fois dans ma vie je fais un bon geste...                                           \n",
       "...                                                   ...                                           \n",
       "399791  Nous allons à l'encontre de la tendance en n'a...                                           \n",
       "399792  Je me demande comment les différentes factions...                                           \n",
       "399793  L'Algérie organisa des négociations entre les ...                                           \n",
       "399794  L'Algérie organisait des négociations entre le...                                           \n",
       "399795                              Il est un peu dingue.                                           \n",
       "\n",
       "          276353  \\\n",
       "0        2193466   \n",
       "1          72044   \n",
       "2         252648   \n",
       "3        1103153   \n",
       "4           3257   \n",
       "...          ...   \n",
       "399791  12433695   \n",
       "399792  10336996   \n",
       "399793  10132427   \n",
       "399794  10132427   \n",
       "399795  11488276   \n",
       "\n",
       "       When he asked who had broken the window, all the boys put on an air of innocence.  \n",
       "0       Then, when he asked who had broken the window,...                                 \n",
       "1                              I can't abide that fellow.                                 \n",
       "2                               I can't bear that fellow.                                 \n",
       "3                                 I can't stand that guy.                                 \n",
       "4       For once in my life I'm doing a good deed... A...                                 \n",
       "...                                                   ...                                 \n",
       "399791  We're bucking the trend by not increasing our ...                                 \n",
       "399792  I wonder how the different political factions ...                                 \n",
       "399793  Algeria organized negotiations between warring...                                 \n",
       "399794  Algeria organized negotiations between warring...                                 \n",
       "399795                              He's a bit of a kook.                                 \n",
       "\n",
       "[399796 rows x 4 columns]>"
      ]
     },
     "execution_count": 91,
     "metadata": {},
     "output_type": "execute_result"
    }
   ],
   "source": [
    "df.count"
   ]
  },
  {
   "cell_type": "code",
   "execution_count": 92,
   "metadata": {},
   "outputs": [],
   "source": [
    "# Only keep the sentence and translation columns\n",
    "df = pd.DataFrame({\n",
    "    'sentence': df.iloc[:, 1],\n",
    "    'translated_sentence': df.iloc[:, 3]\n",
    "})"
   ]
  },
  {
   "cell_type": "code",
   "execution_count": 93,
   "metadata": {},
   "outputs": [
    {
     "data": {
      "text/html": [
       "<div>\n",
       "<style scoped>\n",
       "    .dataframe tbody tr th:only-of-type {\n",
       "        vertical-align: middle;\n",
       "    }\n",
       "\n",
       "    .dataframe tbody tr th {\n",
       "        vertical-align: top;\n",
       "    }\n",
       "\n",
       "    .dataframe thead th {\n",
       "        text-align: right;\n",
       "    }\n",
       "</style>\n",
       "<table border=\"1\" class=\"dataframe\">\n",
       "  <thead>\n",
       "    <tr style=\"text-align: right;\">\n",
       "      <th></th>\n",
       "      <th>sentence</th>\n",
       "      <th>translated_sentence</th>\n",
       "    </tr>\n",
       "  </thead>\n",
       "  <tbody>\n",
       "    <tr>\n",
       "      <th>0</th>\n",
       "      <td>Lorsqu'il a demandé qui avait cassé la fenêtre...</td>\n",
       "      <td>Then, when he asked who had broken the window,...</td>\n",
       "    </tr>\n",
       "    <tr>\n",
       "      <th>1</th>\n",
       "      <td>Je ne supporte pas ce type.</td>\n",
       "      <td>I can't abide that fellow.</td>\n",
       "    </tr>\n",
       "    <tr>\n",
       "      <th>2</th>\n",
       "      <td>Je ne supporte pas ce type.</td>\n",
       "      <td>I can't bear that fellow.</td>\n",
       "    </tr>\n",
       "    <tr>\n",
       "      <th>3</th>\n",
       "      <td>Je ne supporte pas ce type.</td>\n",
       "      <td>I can't stand that guy.</td>\n",
       "    </tr>\n",
       "    <tr>\n",
       "      <th>4</th>\n",
       "      <td>Pour une fois dans ma vie je fais un bon geste...</td>\n",
       "      <td>For once in my life I'm doing a good deed... A...</td>\n",
       "    </tr>\n",
       "  </tbody>\n",
       "</table>\n",
       "</div>"
      ],
      "text/plain": [
       "                                            sentence  \\\n",
       "0  Lorsqu'il a demandé qui avait cassé la fenêtre...   \n",
       "1                        Je ne supporte pas ce type.   \n",
       "2                        Je ne supporte pas ce type.   \n",
       "3                        Je ne supporte pas ce type.   \n",
       "4  Pour une fois dans ma vie je fais un bon geste...   \n",
       "\n",
       "                                 translated_sentence  \n",
       "0  Then, when he asked who had broken the window,...  \n",
       "1                         I can't abide that fellow.  \n",
       "2                          I can't bear that fellow.  \n",
       "3                            I can't stand that guy.  \n",
       "4  For once in my life I'm doing a good deed... A...  "
      ]
     },
     "execution_count": 93,
     "metadata": {},
     "output_type": "execute_result"
    }
   ],
   "source": [
    "df.head()"
   ]
  },
  {
   "cell_type": "code",
   "execution_count": 94,
   "metadata": {},
   "outputs": [
    {
     "data": {
      "text/plain": [
       "\"# Combine into a dataframe and randomly sample n rows\\nn = 3_000_000\\n\\nlang_series = lang_series.reset_index(drop=True)\\nen_series = en_series.reset_index(drop=True)\\n\\nlang_series_list = lang_series.values.tolist()\\nen_series_list = en_series.values.tolist()\\n\\n# Flatten the lists\\nlang_series_list = [item[0] for item in lang_series_list]\\nen_series_list = [item[0] for item in en_series_list]\\n\\n\\ndf = pd.DataFrame({\\n    'sentence': lang_series_list,\\n    'translation': en_series_list\\n})\\n\\n# First 100 or so lines are in English for some reason\\n#df = df[df.index > 100]\\n\\ndf_sample = df.sample(n, random_state=1)\\ndf_sample.to_csv(f'../input_files/{constants.language_code}/open_subtitles_uncleaned_sentences.csv', sep='\\t')\\n\""
      ]
     },
     "execution_count": 94,
     "metadata": {},
     "output_type": "execute_result"
    }
   ],
   "source": [
    "\"\"\"# Combine into a dataframe and randomly sample n rows\n",
    "n = 3_000_000\n",
    "\n",
    "lang_series = lang_series.reset_index(drop=True)\n",
    "en_series = en_series.reset_index(drop=True)\n",
    "\n",
    "lang_series_list = lang_series.values.tolist()\n",
    "en_series_list = en_series.values.tolist()\n",
    "\n",
    "# Flatten the lists\n",
    "lang_series_list = [item[0] for item in lang_series_list]\n",
    "en_series_list = [item[0] for item in en_series_list]\n",
    "\n",
    "\n",
    "df = pd.DataFrame({\n",
    "    'sentence': lang_series_list,\n",
    "    'translation': en_series_list\n",
    "})\n",
    "\n",
    "# First 100 or so lines are in English for some reason\n",
    "#df = df[df.index > 100]\n",
    "\n",
    "df_sample = df.sample(n, random_state=1)\n",
    "df_sample.to_csv(f'../input_files/{constants.language_code}/open_subtitles_uncleaned_sentences.csv', sep='\\t')\n",
    "\"\"\""
   ]
  },
  {
   "cell_type": "code",
   "execution_count": 95,
   "metadata": {},
   "outputs": [
    {
     "name": "stdout",
     "output_type": "stream",
     "text": [
      "<class 'pandas.core.frame.DataFrame'>\n",
      "RangeIndex: 399796 entries, 0 to 399795\n",
      "Data columns (total 2 columns):\n",
      " #   Column               Non-Null Count   Dtype \n",
      "---  ------               --------------   ----- \n",
      " 0   sentence             399796 non-null  object\n",
      " 1   translated_sentence  399796 non-null  object\n",
      "dtypes: object(2)\n",
      "memory usage: 6.1+ MB\n"
     ]
    }
   ],
   "source": [
    "df.info()"
   ]
  },
  {
   "cell_type": "code",
   "execution_count": 96,
   "metadata": {},
   "outputs": [
    {
     "data": {
      "text/plain": [
       "<bound method DataFrame.count of                                                  sentence  \\\n",
       "5355    \"De quoi le professeur a-t-il parlé ?\" demanda...   \n",
       "5356    \"De quoi le professeur a-t-il parlé ?\" demanda...   \n",
       "20722               \"Superman\" sort ce mois-ci au cinéma.   \n",
       "20721               \"Superman\" sort ce mois-ci au cinéma.   \n",
       "289705      \"À qui est cette chaise ?\" \"C'est la mienne\".   \n",
       "...                                                   ...   \n",
       "187926                               Ôtez vos vêtements !   \n",
       "116628                               Ôtez votre chapeau !   \n",
       "188793                               Ôtez votre chapeau !   \n",
       "92373       Ôtez votre manteau et faites comme chez vous.   \n",
       "92374       Ôtez votre manteau et faites comme chez vous.   \n",
       "\n",
       "                                      translated_sentence  \n",
       "5355    \"What did the professor talk about?\" the stude...  \n",
       "5356    \"What did the teacher talk about?\" asked the s...  \n",
       "20722   \"Superman\" is showing at the movie theater thi...  \n",
       "20721   \"Superman\" is showing at the movie theatre thi...  \n",
       "289705                     \"Whose chair is this?\" \"Mine.\"  \n",
       "...                                                   ...  \n",
       "187926                             Take off your clothes!  \n",
       "116628                                   Remove your hat.  \n",
       "188793                                 Take off your hat.  \n",
       "92373      Take your coat off, and make yourself at home.  \n",
       "92374       Take your coat off and make yourself at home.  \n",
       "\n",
       "[94215 rows x 2 columns]>"
      ]
     },
     "execution_count": 96,
     "metadata": {},
     "output_type": "execute_result"
    }
   ],
   "source": [
    "# Let's see if there are any duplicates in the dataset\n",
    "df[df[\"sentence\"].duplicated(keep=False)].sort_values(\"sentence\").count"
   ]
  },
  {
   "cell_type": "code",
   "execution_count": 97,
   "metadata": {},
   "outputs": [
    {
     "data": {
      "text/plain": [
       "sentence               object\n",
       "translated_sentence    object\n",
       "dtype: object"
      ]
     },
     "execution_count": 97,
     "metadata": {},
     "output_type": "execute_result"
    }
   ],
   "source": [
    "df.dtypes"
   ]
  },
  {
   "cell_type": "code",
   "execution_count": 98,
   "metadata": {},
   "outputs": [],
   "source": [
    "# Remove all duplicates from the dataframe\n",
    "df = df.drop_duplicates(\"sentence\")"
   ]
  },
  {
   "cell_type": "code",
   "execution_count": 81,
   "metadata": {},
   "outputs": [
    {
     "data": {
      "text/plain": [
       "<bound method DataFrame.info of                                                  sentence  \\\n",
       "0       Lorsqu'il a demandé qui avait cassé la fenêtre...   \n",
       "1                             Je ne supporte pas ce type.   \n",
       "4       Pour une fois dans ma vie je fais un bon geste...   \n",
       "5                  Ne tenez aucun compte de ce qu'il dit.   \n",
       "6                                Essayons quelque chose !   \n",
       "...                                                   ...   \n",
       "399791  Nous allons à l'encontre de la tendance en n'a...   \n",
       "399792  Je me demande comment les différentes factions...   \n",
       "399793  L'Algérie organisa des négociations entre les ...   \n",
       "399794  L'Algérie organisait des négociations entre le...   \n",
       "399795                              Il est un peu dingue.   \n",
       "\n",
       "                                      translated_sentence  \n",
       "0       Then, when he asked who had broken the window,...  \n",
       "1                              I can't abide that fellow.  \n",
       "4       For once in my life I'm doing a good deed... A...  \n",
       "5                  Don't take any notice of what he says.  \n",
       "6                                    Let's try something.  \n",
       "...                                                   ...  \n",
       "399791  We're bucking the trend by not increasing our ...  \n",
       "399792  I wonder how the different political factions ...  \n",
       "399793  Algeria organized negotiations between warring...  \n",
       "399794  Algeria organized negotiations between warring...  \n",
       "399795                              He's a bit of a kook.  \n",
       "\n",
       "[346182 rows x 2 columns]>"
      ]
     },
     "execution_count": 81,
     "metadata": {},
     "output_type": "execute_result"
    }
   ],
   "source": [
    "df.info"
   ]
  },
  {
   "cell_type": "code",
   "execution_count": 99,
   "metadata": {},
   "outputs": [
    {
     "name": "stdout",
     "output_type": "stream",
     "text": [
      "Longest sentence: 1447 characters\n",
      "Le repas copieux pris et son cartable fin prêt, Link chercha in extremis du réconfort auprès de ses amis. \"Zelda, j'ai besoin de conseils.\" \"Tu n'as quand même pas déjà peur\", dit Zelda, renfrognée. \"Non. Je veux juste l'avis de quelqu'un qui a déjà été au lycée et tu es la personne la plus intelligente que je connaisse !\" Link sourit. Zelda laissa échapper un léger rire. \"Merci. Toi alors...\" \"Les profs sont d'une sévérité à couper le souffle !\" interrompit le roi d'un sourire malicieux. \"Hein ?!\" \"Père !\" s'exclama la princesse d'un ton réprobateur. \"Désolé, poursuis.\" \"Donc, Link-\" Cette fo\n"
     ]
    }
   ],
   "source": [
    "lengths: pd.Series = df['sentence'].str.len()\n",
    "max_characters: int = lengths.max()\n",
    "max_index = lengths.idxmax()\n",
    "\n",
    "# Find the sentence with the most characters to see if there are any delimitation issues.\n",
    "print(f'Longest sentence: {max_characters} characters')\n",
    "print(df[df.index == max_index]['sentence'].values[0][:600]) # Print out first 600 characters"
   ]
  },
  {
   "cell_type": "code",
   "execution_count": 104,
   "metadata": {},
   "outputs": [],
   "source": [
    "# Cut off any sentences longer than 200 or \n",
    "# shorter than 30 characters\n",
    "df = df[\n",
    "    (df['sentence'].str.len() < 200)\n",
    "    & (df['sentence'].str.len() > (15 if constants.language_code == 'th' else 30)) # setting to 30 cuts out most thai sentences\n",
    "     ]\n"
   ]
  },
  {
   "cell_type": "code",
   "execution_count": 105,
   "metadata": {},
   "outputs": [
    {
     "name": "stdout",
     "output_type": "stream",
     "text": [
      "<class 'pandas.core.frame.DataFrame'>\n",
      "Index: 215109 entries, 0 to 399794\n",
      "Data columns (total 2 columns):\n",
      " #   Column               Non-Null Count   Dtype \n",
      "---  ------               --------------   ----- \n",
      " 0   sentence             215109 non-null  object\n",
      " 1   translated_sentence  215109 non-null  object\n",
      "dtypes: object(2)\n",
      "memory usage: 4.9+ MB\n"
     ]
    }
   ],
   "source": [
    "df.info()"
   ]
  },
  {
   "cell_type": "code",
   "execution_count": 85,
   "metadata": {},
   "outputs": [],
   "source": [
    "# Randomly sample n rows to get a reduced dataset for easier training while testing out this method. Set a seed for reproducability.\n",
    "#n_rows = 30000\n",
    "\n",
    "#reduced_df = df.sample(n=n_rows, random_state=1)"
   ]
  },
  {
   "cell_type": "code",
   "execution_count": 106,
   "metadata": {},
   "outputs": [],
   "source": [
    "# Remove id column and save dataframes as csv\n",
    "df.to_csv(f\"../output_files/{constants.language_code}/step0_sentences.csv\", sep='\\t', index=False)\n",
    "#reduced_df.to_csv(\"./french_sentences_reduced.csv\", sep='\\t', index=False)"
   ]
  },
  {
   "cell_type": "code",
   "execution_count": null,
   "metadata": {},
   "outputs": [],
   "source": []
  }
 ],
 "metadata": {
  "kernelspec": {
   "display_name": "venv",
   "language": "python",
   "name": "python3"
  },
  "language_info": {
   "codemirror_mode": {
    "name": "ipython",
    "version": 3
   },
   "file_extension": ".py",
   "mimetype": "text/x-python",
   "name": "python",
   "nbconvert_exporter": "python",
   "pygments_lexer": "ipython3",
   "version": "3.11.9"
  },
  "orig_nbformat": 4
 },
 "nbformat": 4,
 "nbformat_minor": 2
}
