{
 "cells": [
  {
   "cell_type": "markdown",
   "metadata": {},
   "source": [
    "The best dataset I've found so far contains is tatoeba.\n",
    "\n",
    "https://tatoeba.org/fr/downloads\n",
    "\n",
    "Another is conversational sentences from film and series subtitles with translations for multiple languages:\n",
    "\n",
    "https://opus.nlpl.eu/OpenSubtitles-v2018.php\n",
    "https://github.com/PolyAI-LDN/conversational-datasets"
   ]
  },
  {
   "cell_type": "code",
   "execution_count": 2,
   "metadata": {},
   "outputs": [],
   "source": [
    "import os\n",
    "import constants\n",
    "import pandas as pd"
   ]
  },
  {
   "cell_type": "code",
   "execution_count": 3,
   "metadata": {},
   "outputs": [],
   "source": [
    "constants.language_code = 'de'"
   ]
  },
  {
   "cell_type": "code",
   "execution_count": 4,
   "metadata": {},
   "outputs": [
    {
     "name": "stderr",
     "output_type": "stream",
     "text": [
      "C:\\Users\\Toby Usher\\AppData\\Local\\Temp\\ipykernel_14444\\63767765.py:6: ParserWarning: Falling back to the 'python' engine because the 'c' engine does not support regex separators (separators > 1 char and different from '\\s+' are interpreted as regex); you can avoid this warning by specifying engine='python'.\n",
      "  df = pd.read_csv(filepath, sep='\\\\t')\n"
     ]
    }
   ],
   "source": [
    "#filepath_en = f\"../input_files/{constants.language_code}/open_subtitles/OpenSubtitles_en-{constants.language_code}.en\"\n",
    "#filepath_lang = f\"../input_files/{constants.language_code}/open_subtitles/OpenSubtitles_en-{constants.language_code}.{constants.language_code}\"\n",
    "\n",
    "filepath = f\"../input_files/{constants.language_code}/tatoeba_{constants.language_code}_en.tsv\"\n",
    "\n",
    "df = pd.read_csv(filepath, sep='\\\\t')\n",
    "#en_series = pd.read_csv(filepath_en, sep='\\\\t')\n",
    "#lang_series = pd.read_csv(filepath_lang, sep='\\\\t')"
   ]
  },
  {
   "cell_type": "code",
   "execution_count": 5,
   "metadata": {},
   "outputs": [
    {
     "data": {
      "text/html": [
       "<div>\n",
       "<style scoped>\n",
       "    .dataframe tbody tr th:only-of-type {\n",
       "        vertical-align: middle;\n",
       "    }\n",
       "\n",
       "    .dataframe tbody tr th {\n",
       "        vertical-align: top;\n",
       "    }\n",
       "\n",
       "    .dataframe thead th {\n",
       "        text-align: right;\n",
       "    }\n",
       "</style>\n",
       "<table border=\"1\" class=\"dataframe\">\n",
       "  <thead>\n",
       "    <tr style=\"text-align: right;\">\n",
       "      <th></th>\n",
       "      <th>243</th>\n",
       "      <th>Один раз в жизни я делаю хорошее дело... И оно бесполезно.</th>\n",
       "      <th>3257</th>\n",
       "      <th>For once in my life I'm doing a good deed... And it is useless.</th>\n",
       "    </tr>\n",
       "  </thead>\n",
       "  <tbody>\n",
       "    <tr>\n",
       "      <th>0</th>\n",
       "      <td>5409</td>\n",
       "      <td>Давайте что-нибудь попробуем!</td>\n",
       "      <td>1276</td>\n",
       "      <td>Let's try something.</td>\n",
       "    </tr>\n",
       "    <tr>\n",
       "      <th>1</th>\n",
       "      <td>5410</td>\n",
       "      <td>Мне пора идти спать.</td>\n",
       "      <td>1277</td>\n",
       "      <td>I have to go to sleep.</td>\n",
       "    </tr>\n",
       "    <tr>\n",
       "      <th>2</th>\n",
       "      <td>5411</td>\n",
       "      <td>Что ты делаешь?</td>\n",
       "      <td>16492</td>\n",
       "      <td>What are you doing?</td>\n",
       "    </tr>\n",
       "    <tr>\n",
       "      <th>3</th>\n",
       "      <td>5411</td>\n",
       "      <td>Что ты делаешь?</td>\n",
       "      <td>511884</td>\n",
       "      <td>What do you make?</td>\n",
       "    </tr>\n",
       "    <tr>\n",
       "      <th>4</th>\n",
       "      <td>5411</td>\n",
       "      <td>Что ты делаешь?</td>\n",
       "      <td>1839618</td>\n",
       "      <td>What're you doing?</td>\n",
       "    </tr>\n",
       "  </tbody>\n",
       "</table>\n",
       "</div>"
      ],
      "text/plain": [
       "    243 Один раз в жизни я делаю хорошее дело... И оно бесполезно.     3257  \\\n",
       "0  5409                      Давайте что-нибудь попробуем!             1276   \n",
       "1  5410                               Мне пора идти спать.             1277   \n",
       "2  5411                                    Что ты делаешь?            16492   \n",
       "3  5411                                    Что ты делаешь?           511884   \n",
       "4  5411                                    Что ты делаешь?          1839618   \n",
       "\n",
       "  For once in my life I'm doing a good deed... And it is useless.  \n",
       "0                               Let's try something.               \n",
       "1                             I have to go to sleep.               \n",
       "2                                What are you doing?               \n",
       "3                                  What do you make?               \n",
       "4                                 What're you doing?               "
      ]
     },
     "execution_count": 5,
     "metadata": {},
     "output_type": "execute_result"
    }
   ],
   "source": [
    "df.head()"
   ]
  },
  {
   "cell_type": "code",
   "execution_count": 6,
   "metadata": {},
   "outputs": [
    {
     "data": {
      "text/plain": [
       "<bound method DataFrame.count of              243 Один раз в жизни я делаю хорошее дело... И оно бесполезно.  \\\n",
       "0           5409                      Давайте что-нибудь попробуем!           \n",
       "1           5410                               Мне пора идти спать.           \n",
       "2           5411                                    Что ты делаешь?           \n",
       "3           5411                                    Что ты делаешь?           \n",
       "4           5411                                    Что ты делаешь?           \n",
       "...          ...                                                ...           \n",
       "716082   2134530                      Интересно, какой путь короче.           \n",
       "716083  12434553                         Ноэль празднует Рождество.           \n",
       "716084  12434552                          Ноэль отмечает Рождество.           \n",
       "716085  12434561                         Смотрите, что Том мне дал.           \n",
       "716086  12434560                           Смотри, что Том мне дал.           \n",
       "\n",
       "            3257  \\\n",
       "0           1276   \n",
       "1           1277   \n",
       "2          16492   \n",
       "3         511884   \n",
       "4        1839618   \n",
       "...          ...   \n",
       "716082  12434551   \n",
       "716083  12229832   \n",
       "716084  12229832   \n",
       "716085  11172838   \n",
       "716086  11172838   \n",
       "\n",
       "       For once in my life I'm doing a good deed... And it is useless.  \n",
       "0                                    Let's try something.               \n",
       "1                                  I have to go to sleep.               \n",
       "2                                     What are you doing?               \n",
       "3                                       What do you make?               \n",
       "4                                      What're you doing?               \n",
       "...                                                   ...               \n",
       "716082                     I wonder which way is shorter.               \n",
       "716083                         Noel celebrates Christmas.               \n",
       "716084                         Noel celebrates Christmas.               \n",
       "716085                             Look what Tom gave me.               \n",
       "716086                             Look what Tom gave me.               \n",
       "\n",
       "[716087 rows x 4 columns]>"
      ]
     },
     "execution_count": 6,
     "metadata": {},
     "output_type": "execute_result"
    }
   ],
   "source": [
    "df.count"
   ]
  },
  {
   "cell_type": "code",
   "execution_count": 7,
   "metadata": {},
   "outputs": [],
   "source": [
    "# Only keep the sentence and translation columns\n",
    "df = pd.DataFrame({\n",
    "    'sentence': df.iloc[:, 1],\n",
    "    'translated_sentence': df.iloc[:, 3]\n",
    "})"
   ]
  },
  {
   "cell_type": "code",
   "execution_count": 8,
   "metadata": {},
   "outputs": [
    {
     "data": {
      "text/html": [
       "<div>\n",
       "<style scoped>\n",
       "    .dataframe tbody tr th:only-of-type {\n",
       "        vertical-align: middle;\n",
       "    }\n",
       "\n",
       "    .dataframe tbody tr th {\n",
       "        vertical-align: top;\n",
       "    }\n",
       "\n",
       "    .dataframe thead th {\n",
       "        text-align: right;\n",
       "    }\n",
       "</style>\n",
       "<table border=\"1\" class=\"dataframe\">\n",
       "  <thead>\n",
       "    <tr style=\"text-align: right;\">\n",
       "      <th></th>\n",
       "      <th>sentence</th>\n",
       "      <th>translated_sentence</th>\n",
       "    </tr>\n",
       "  </thead>\n",
       "  <tbody>\n",
       "    <tr>\n",
       "      <th>0</th>\n",
       "      <td>Давайте что-нибудь попробуем!</td>\n",
       "      <td>Let's try something.</td>\n",
       "    </tr>\n",
       "    <tr>\n",
       "      <th>1</th>\n",
       "      <td>Мне пора идти спать.</td>\n",
       "      <td>I have to go to sleep.</td>\n",
       "    </tr>\n",
       "    <tr>\n",
       "      <th>2</th>\n",
       "      <td>Что ты делаешь?</td>\n",
       "      <td>What are you doing?</td>\n",
       "    </tr>\n",
       "    <tr>\n",
       "      <th>3</th>\n",
       "      <td>Что ты делаешь?</td>\n",
       "      <td>What do you make?</td>\n",
       "    </tr>\n",
       "    <tr>\n",
       "      <th>4</th>\n",
       "      <td>Что ты делаешь?</td>\n",
       "      <td>What're you doing?</td>\n",
       "    </tr>\n",
       "  </tbody>\n",
       "</table>\n",
       "</div>"
      ],
      "text/plain": [
       "                        sentence     translated_sentence\n",
       "0  Давайте что-нибудь попробуем!    Let's try something.\n",
       "1           Мне пора идти спать.  I have to go to sleep.\n",
       "2                Что ты делаешь?     What are you doing?\n",
       "3                Что ты делаешь?       What do you make?\n",
       "4                Что ты делаешь?      What're you doing?"
      ]
     },
     "execution_count": 8,
     "metadata": {},
     "output_type": "execute_result"
    }
   ],
   "source": [
    "df.head()"
   ]
  },
  {
   "cell_type": "code",
   "execution_count": 9,
   "metadata": {},
   "outputs": [
    {
     "data": {
      "text/plain": [
       "\"# Combine into a dataframe and randomly sample n rows\\nn = 3_000_000\\n\\nlang_series = lang_series.reset_index(drop=True)\\nen_series = en_series.reset_index(drop=True)\\n\\nlang_series_list = lang_series.values.tolist()\\nen_series_list = en_series.values.tolist()\\n\\n# Flatten the lists\\nlang_series_list = [item[0] for item in lang_series_list]\\nen_series_list = [item[0] for item in en_series_list]\\n\\n\\ndf = pd.DataFrame({\\n    'sentence': lang_series_list,\\n    'translation': en_series_list\\n})\\n\\n# First 100 or so lines are in English for some reason\\n#df = df[df.index > 100]\\n\\ndf_sample = df.sample(n, random_state=1)\\ndf_sample.to_csv(f'../input_files/{constants.language_code}/open_subtitles_uncleaned_sentences.csv', sep='\\t')\\n\""
      ]
     },
     "execution_count": 9,
     "metadata": {},
     "output_type": "execute_result"
    }
   ],
   "source": [
    "\"\"\"# Combine into a dataframe and randomly sample n rows\n",
    "n = 3_000_000\n",
    "\n",
    "lang_series = lang_series.reset_index(drop=True)\n",
    "en_series = en_series.reset_index(drop=True)\n",
    "\n",
    "lang_series_list = lang_series.values.tolist()\n",
    "en_series_list = en_series.values.tolist()\n",
    "\n",
    "# Flatten the lists\n",
    "lang_series_list = [item[0] for item in lang_series_list]\n",
    "en_series_list = [item[0] for item in en_series_list]\n",
    "\n",
    "\n",
    "df = pd.DataFrame({\n",
    "    'sentence': lang_series_list,\n",
    "    'translation': en_series_list\n",
    "})\n",
    "\n",
    "# First 100 or so lines are in English for some reason\n",
    "#df = df[df.index > 100]\n",
    "\n",
    "df_sample = df.sample(n, random_state=1)\n",
    "df_sample.to_csv(f'../input_files/{constants.language_code}/open_subtitles_uncleaned_sentences.csv', sep='\\t')\n",
    "\"\"\""
   ]
  },
  {
   "cell_type": "code",
   "execution_count": 10,
   "metadata": {},
   "outputs": [
    {
     "name": "stdout",
     "output_type": "stream",
     "text": [
      "<class 'pandas.core.frame.DataFrame'>\n",
      "RangeIndex: 716087 entries, 0 to 716086\n",
      "Data columns (total 2 columns):\n",
      " #   Column               Non-Null Count   Dtype \n",
      "---  ------               --------------   ----- \n",
      " 0   sentence             716087 non-null  object\n",
      " 1   translated_sentence  716087 non-null  object\n",
      "dtypes: object(2)\n",
      "memory usage: 10.9+ MB\n"
     ]
    }
   ],
   "source": [
    "df.info()"
   ]
  },
  {
   "cell_type": "code",
   "execution_count": 11,
   "metadata": {},
   "outputs": [
    {
     "data": {
      "text/plain": [
       "<bound method DataFrame.count of                                                  sentence  \\\n",
       "148751                  \"А где начальство?\" - \"На обеде\".   \n",
       "151739                  \"А где начальство?\" - \"На обеде\".   \n",
       "610451                          \"Вернись!\" - закричал он.   \n",
       "14757                           \"Вернись!\" - закричал он.   \n",
       "29971   \"Возьми единственного сына твоего, которого ты...   \n",
       "...                                                   ...   \n",
       "332514                                         Ящик пуст.   \n",
       "179240                                       Ящик пустой.   \n",
       "332515                                       Ящик пустой.   \n",
       "19039   —Что происходит в пещере? Мне интересно. —Поня...   \n",
       "19040   —Что происходит в пещере? Мне интересно. —Поня...   \n",
       "\n",
       "                                      translated_sentence  \n",
       "148751         \"And where are the bosses?\" – \"At dinner\".  \n",
       "151739            \"And where is the boss?\" - \"At dinner\".  \n",
       "610451                             \"Come back!\" he cried.  \n",
       "14757                            \"Come back!\" he shouted.  \n",
       "29971   'Take your only begotten son Isaac, whom you l...  \n",
       "...                                                   ...  \n",
       "332514                                  The box is empty.  \n",
       "179240                               The drawer is empty.  \n",
       "332515                                  The box is empty.  \n",
       "19039   \"What's going on in the cave? I'm curious.\" \"I...  \n",
       "19040   \"What's happening in the cave? I'm curious.\" \"...  \n",
       "\n",
       "[167014 rows x 2 columns]>"
      ]
     },
     "execution_count": 11,
     "metadata": {},
     "output_type": "execute_result"
    }
   ],
   "source": [
    "# Let's see if there are any duplicates in the dataset\n",
    "df[df[\"sentence\"].duplicated(keep=False)].sort_values(\"sentence\").count"
   ]
  },
  {
   "cell_type": "code",
   "execution_count": 12,
   "metadata": {},
   "outputs": [
    {
     "data": {
      "text/plain": [
       "sentence               object\n",
       "translated_sentence    object\n",
       "dtype: object"
      ]
     },
     "execution_count": 12,
     "metadata": {},
     "output_type": "execute_result"
    }
   ],
   "source": [
    "df.dtypes"
   ]
  },
  {
   "cell_type": "code",
   "execution_count": 13,
   "metadata": {},
   "outputs": [],
   "source": [
    "# Remove all duplicates from the dataframe\n",
    "df = df.drop_duplicates(\"sentence\")"
   ]
  },
  {
   "cell_type": "code",
   "execution_count": 14,
   "metadata": {},
   "outputs": [
    {
     "data": {
      "text/plain": [
       "<bound method DataFrame.info of                                             sentence  \\\n",
       "0                      Давайте что-нибудь попробуем!   \n",
       "1                               Мне пора идти спать.   \n",
       "2                                    Что ты делаешь?   \n",
       "5                                           Что это?   \n",
       "9       Сегодня 18 июня, и это день рождения Мюриэл!   \n",
       "...                                              ...   \n",
       "716082                 Интересно, какой путь короче.   \n",
       "716083                    Ноэль празднует Рождество.   \n",
       "716084                     Ноэль отмечает Рождество.   \n",
       "716085                    Смотрите, что Том мне дал.   \n",
       "716086                      Смотри, что Том мне дал.   \n",
       "\n",
       "                                     translated_sentence  \n",
       "0                                   Let's try something.  \n",
       "1                                 I have to go to sleep.  \n",
       "2                                    What are you doing?  \n",
       "5                                            What is it?  \n",
       "9       Today is June 18th and it is Muiriel's birthday!  \n",
       "...                                                  ...  \n",
       "716082                    I wonder which way is shorter.  \n",
       "716083                        Noel celebrates Christmas.  \n",
       "716084                        Noel celebrates Christmas.  \n",
       "716085                            Look what Tom gave me.  \n",
       "716086                            Look what Tom gave me.  \n",
       "\n",
       "[622804 rows x 2 columns]>"
      ]
     },
     "execution_count": 14,
     "metadata": {},
     "output_type": "execute_result"
    }
   ],
   "source": [
    "df.info"
   ]
  },
  {
   "cell_type": "code",
   "execution_count": 15,
   "metadata": {},
   "outputs": [
    {
     "name": "stdout",
     "output_type": "stream",
     "text": [
      "Longest sentence: 837 characters\n",
      "Я еврей. Да разве у еврея нет глаз? Разве у еврея нет рук, внутренних органов, частей тела, чувств, привязанностей, страстей? Разве не та же самая пища питает его, не то же оружие ранит его, не те же болезни поражают его, не же средства лечат его, не так же знобит зима, не так же греет лето, что и христианина? Когда нас колют, разве из нас не течёт кровь? Когда нас щекочут, разве мы не смеёмся? Когда нас отравляют, разве мы не умираем? А когда нас оскорбляют, разве мы не должны мстить? Если мы во всё похожи на вас, то мы хотим походить и в этом. Если еврей оскорбит христианина, что внушает том\n"
     ]
    }
   ],
   "source": [
    "lengths: pd.Series = df['sentence'].str.len()\n",
    "max_characters: int = lengths.max()\n",
    "max_index = lengths.idxmax()\n",
    "\n",
    "# Find the sentence with the most characters to see if there are any delimitation issues.\n",
    "print(f'Longest sentence: {max_characters} characters')\n",
    "print(df[df.index == max_index]['sentence'].values[0][:600]) # Print out first 600 characters"
   ]
  },
  {
   "cell_type": "code",
   "execution_count": 16,
   "metadata": {},
   "outputs": [],
   "source": [
    "# Cut off any sentences longer than 200 or \n",
    "# shorter than 30 characters\n",
    "df = df[\n",
    "    (df['sentence'].str.len() < 200)\n",
    "    & (df['sentence'].str.len() > (15 if constants.language_code == 'th' else 30)) # setting to 30 cuts out most thai sentences\n",
    "     ]\n"
   ]
  },
  {
   "cell_type": "code",
   "execution_count": 17,
   "metadata": {},
   "outputs": [
    {
     "name": "stdout",
     "output_type": "stream",
     "text": [
      "<class 'pandas.core.frame.DataFrame'>\n",
      "Index: 270832 entries, 9 to 716081\n",
      "Data columns (total 2 columns):\n",
      " #   Column               Non-Null Count   Dtype \n",
      "---  ------               --------------   ----- \n",
      " 0   sentence             270832 non-null  object\n",
      " 1   translated_sentence  270832 non-null  object\n",
      "dtypes: object(2)\n",
      "memory usage: 6.2+ MB\n"
     ]
    }
   ],
   "source": [
    "df.info()"
   ]
  },
  {
   "cell_type": "code",
   "execution_count": 18,
   "metadata": {},
   "outputs": [],
   "source": [
    "# Randomly sample n rows to get a reduced dataset for easier training while testing out this method. Set a seed for reproducability.\n",
    "#n_rows = 30000\n",
    "\n",
    "#reduced_df = df.sample(n=n_rows, random_state=1)"
   ]
  },
  {
   "cell_type": "code",
   "execution_count": 19,
   "metadata": {},
   "outputs": [],
   "source": [
    "# Remove id column and save dataframes as csv\n",
    "df.to_csv(f\"../output_files/{constants.language_code}/step0_sentences.csv\", sep='\\t', index=False)\n",
    "#reduced_df.to_csv(\"./french_sentences_reduced.csv\", sep='\\t', index=False)"
   ]
  },
  {
   "cell_type": "code",
   "execution_count": null,
   "metadata": {},
   "outputs": [],
   "source": []
  }
 ],
 "metadata": {
  "kernelspec": {
   "display_name": "venv",
   "language": "python",
   "name": "python3"
  },
  "language_info": {
   "codemirror_mode": {
    "name": "ipython",
    "version": 3
   },
   "file_extension": ".py",
   "mimetype": "text/x-python",
   "name": "python",
   "nbconvert_exporter": "python",
   "pygments_lexer": "ipython3",
   "version": "3.11.9"
  },
  "orig_nbformat": 4
 },
 "nbformat": 4,
 "nbformat_minor": 2
}
