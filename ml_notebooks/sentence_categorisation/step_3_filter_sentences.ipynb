{
 "cells": [
  {
   "cell_type": "markdown",
   "metadata": {},
   "source": [
    "Now I have a huge database of french sentences (All under 200 chars) categorised into 1400 clusters. I now need to filter down this dataset to a much smaller dataset of cleaned sentences appropriate for use within the app.\n",
    "\n",
    "I want to filter things like:\n",
    "\n",
    "Websites and email addresses\n",
    "\n",
    "Long strings of the same character, such as Awwwwwwww. Filtering three will discard some roman numerals so four or more is what I chose\n",
    "\n"
   ]
  },
  {
   "cell_type": "code",
   "execution_count": 31,
   "metadata": {},
   "outputs": [],
   "source": [
    "import os\n",
    "import re\n",
    "import pandas as pd"
   ]
  },
  {
   "cell_type": "code",
   "execution_count": 32,
   "metadata": {},
   "outputs": [],
   "source": [
    "language_code = 'de'\n",
    "\n",
    "filepath = f'../output_files/{language_code}/step2_sentences.csv'\n",
    "\n",
    "df = pd.read_csv(filepath, delimiter='\\t') #, delimiter='\\t', header=None)"
   ]
  },
  {
   "cell_type": "code",
   "execution_count": 33,
   "metadata": {},
   "outputs": [
    {
     "data": {
      "text/plain": [
       "id          2355301\n",
       "sentence    2355301\n",
       "dtype: int64"
      ]
     },
     "execution_count": 33,
     "metadata": {},
     "output_type": "execute_result"
    }
   ],
   "source": [
    "df.count()"
   ]
  },
  {
   "cell_type": "code",
   "execution_count": 34,
   "metadata": {},
   "outputs": [
    {
     "data": {
      "text/plain": [
       "id          2355301\n",
       "sentence    2355301\n",
       "dtype: int64"
      ]
     },
     "execution_count": 34,
     "metadata": {},
     "output_type": "execute_result"
    }
   ],
   "source": [
    "df.count()"
   ]
  },
  {
   "cell_type": "code",
   "execution_count": 35,
   "metadata": {},
   "outputs": [
    {
     "name": "stderr",
     "output_type": "stream",
     "text": [
      "C:\\Users\\Toby Usher\\AppData\\Local\\Temp\\ipykernel_15228\\4174749465.py:3: UserWarning: This pattern is interpreted as a regular expression, and has match groups. To actually get the groups, use str.extract.\n",
      "  df_filtered = df[df['sentence'].str.contains(r'([a-z])\\1\\1\\1', regex=True, na=False, case=False)]\n"
     ]
    }
   ],
   "source": [
    "# First get all sentences with three or more of the same roman character in a row\n",
    "# TODO: Change this to include specific characters for each language\n",
    "df_filtered = df[df['sentence'].str.contains(r'([a-z])\\1\\1\\1', regex=True, na=False, case=False)]"
   ]
  },
  {
   "cell_type": "code",
   "execution_count": 36,
   "metadata": {},
   "outputs": [
    {
     "data": {
      "text/plain": [
       "id          282\n",
       "sentence    282\n",
       "dtype: int64"
      ]
     },
     "execution_count": 36,
     "metadata": {},
     "output_type": "execute_result"
    }
   ],
   "source": [
    "df_filtered.count()"
   ]
  },
  {
   "cell_type": "code",
   "execution_count": 37,
   "metadata": {},
   "outputs": [
    {
     "data": {
      "text/html": [
       "<div>\n",
       "<style scoped>\n",
       "    .dataframe tbody tr th:only-of-type {\n",
       "        vertical-align: middle;\n",
       "    }\n",
       "\n",
       "    .dataframe tbody tr th {\n",
       "        vertical-align: top;\n",
       "    }\n",
       "\n",
       "    .dataframe thead th {\n",
       "        text-align: right;\n",
       "    }\n",
       "</style>\n",
       "<table border=\"1\" class=\"dataframe\">\n",
       "  <thead>\n",
       "    <tr style=\"text-align: right;\">\n",
       "      <th></th>\n",
       "      <th>id</th>\n",
       "      <th>sentence</th>\n",
       "    </tr>\n",
       "  </thead>\n",
       "  <tbody>\n",
       "    <tr>\n",
       "      <th>2039</th>\n",
       "      <td>2620</td>\n",
       "      <td>1.13 ist doch eine Mod( und zwar eine seeeeeee...</td>\n",
       "    </tr>\n",
       "    <tr>\n",
       "      <th>5026</th>\n",
       "      <td>6404</td>\n",
       "      <td>17.37 Uhr: Neumayer könnte indes noch über die...</td>\n",
       "    </tr>\n",
       "    <tr>\n",
       "      <th>9603</th>\n",
       "      <td>12299</td>\n",
       "      <td>26. Minute: Eeeeey Schiri, das war Handspiel!</td>\n",
       "    </tr>\n",
       "    <tr>\n",
       "      <th>12191</th>\n",
       "      <td>15597</td>\n",
       "      <td>39. Minute (2. Drittel) Toooooooooor für die L...</td>\n",
       "    </tr>\n",
       "    <tr>\n",
       "      <th>13140</th>\n",
       "      <td>16697</td>\n",
       "      <td>3. Oleeee Oleeee Olee Brot und Spiele mal ganz...</td>\n",
       "    </tr>\n",
       "  </tbody>\n",
       "</table>\n",
       "</div>"
      ],
      "text/plain": [
       "          id                                           sentence\n",
       "2039    2620  1.13 ist doch eine Mod( und zwar eine seeeeeee...\n",
       "5026    6404  17.37 Uhr: Neumayer könnte indes noch über die...\n",
       "9603   12299      26. Minute: Eeeeey Schiri, das war Handspiel!\n",
       "12191  15597  39. Minute (2. Drittel) Toooooooooor für die L...\n",
       "13140  16697  3. Oleeee Oleeee Olee Brot und Spiele mal ganz..."
      ]
     },
     "execution_count": 37,
     "metadata": {},
     "output_type": "execute_result"
    }
   ],
   "source": [
    "df_filtered.head()"
   ]
  },
  {
   "cell_type": "code",
   "execution_count": 38,
   "metadata": {},
   "outputs": [
    {
     "name": "stderr",
     "output_type": "stream",
     "text": [
      "C:\\Users\\Toby Usher\\AppData\\Local\\Temp\\ipykernel_15228\\2782004905.py:2: UserWarning: This pattern is interpreted as a regular expression, and has match groups. To actually get the groups, use str.extract.\n",
      "  df = df[~df['sentence'].str.contains(r'([a-z])\\1\\1\\1', regex=True, na=False, case=False)]\n"
     ]
    }
   ],
   "source": [
    "# Remove these from the dataset\n",
    "df = df[~df['sentence'].str.contains(r'([a-z])\\1\\1\\1', regex=True, na=False, case=False)]"
   ]
  },
  {
   "cell_type": "code",
   "execution_count": 39,
   "metadata": {},
   "outputs": [],
   "source": [
    "# Remove web addresses and emails\n",
    "df = df[~df['sentence'].str.contains(r'www\\.|@|http://|\\\\\\\\|//', regex=True, na=False)]"
   ]
  },
  {
   "cell_type": "code",
   "execution_count": 40,
   "metadata": {},
   "outputs": [
    {
     "data": {
      "text/plain": [
       "id          2349588\n",
       "sentence    2349588\n",
       "dtype: int64"
      ]
     },
     "execution_count": 40,
     "metadata": {},
     "output_type": "execute_result"
    }
   ],
   "source": [
    "df.count()"
   ]
  },
  {
   "cell_type": "code",
   "execution_count": 41,
   "metadata": {},
   "outputs": [],
   "source": [
    "# Apart from anticonstitutionnellement and a few others, there are effectively no words over 20 letters in french, so any sentences with a string of characters longer than this should probably be removed.\n",
    "# This doesn't account for hyphens and apostrophes but words this long might cause wrapping issues in the app anyway.\n",
    "# 19\n",
    "max_word_regex = {\n",
    "    'fr': r'\\b\\w{20,}\\b', # anticonstitutionnellement (20) longest relatively used word\n",
    "    'de': r'\\b\\w{40,}\\b' # Rechtsschutzversicherungsgesellschaften (39)\n",
    "}\n",
    "# NOTE: \\w shorthand only includes non-special letters and numbers in regex I think, so need to change this\n",
    "df = df[~df['sentence'].str.contains(max_word_regex[language_code], regex=True, na=False)]"
   ]
  },
  {
   "cell_type": "code",
   "execution_count": 42,
   "metadata": {},
   "outputs": [],
   "source": [
    "# Remove any grammatical weirdness\n",
    "\"\"\"\n",
    "..\n",
    "''\n",
    "\"\"\n",
    "--\n",
    "==\n",
    ">\n",
    "<\n",
    "??\n",
    "((\n",
    "))\n",
    "#\n",
    "+++\n",
    "^\n",
    "|\n",
    "$$\n",
    "££\n",
    "€€\n",
    "¥¥\n",
    "%%\n",
    "&&\n",
    "*\n",
    "!!\n",
    "~\n",
    ";\n",
    ":\n",
    "¬\n",
    "`\n",
    "\n",
    "Redundant for now:\n",
    "->\n",
    "=>\n",
    ":)\n",
    ":-)\n",
    ":(\n",
    "\"\"\"\n",
    "\n",
    "unwanted_substrings = ['\\.\\.', '\\.\\.', \"''\", '\"\"', '--', '==', '>',\n",
    "    '<', '›', '‹', '\\?\\?', '\\(\\(', '\\)\\)', '#', '\\+\\+\\+', '\\^', '\\|', '\\$\\$', '££', '€€', '¥¥',\n",
    "    '%%', '&&', '\\*', '!!', '~', ';', ':', '¬', '`'\n",
    "    ]\n",
    "\n",
    "regex = '|'.join(unwanted_substrings)\n",
    "\n",
    "#df = df[~df['sentence'].str.contains(r'\\.\\.|\\'\\'|\\\"\\\"|--|==|->|=>|:\\)|:-\\)|:\\(|\\?\\?|\\(\\(|\\)\\)', regex=True, na=False)]#|\\+\\+\\+|^|$$|££|%%|&&|\\*\\*|!!|~|;;|¬|`', regex=True, na=False)]\n",
    "df = df[~df['sentence'].str.contains(fr'{regex}')]"
   ]
  },
  {
   "cell_type": "code",
   "execution_count": 43,
   "metadata": {},
   "outputs": [
    {
     "data": {
      "text/plain": [
       "id          2057956\n",
       "sentence    2057956\n",
       "dtype: int64"
      ]
     },
     "execution_count": 43,
     "metadata": {},
     "output_type": "execute_result"
    }
   ],
   "source": [
    "df.count()"
   ]
  },
  {
   "cell_type": "code",
   "execution_count": 46,
   "metadata": {},
   "outputs": [],
   "source": [
    "# Remove any sentences that contain five or more unique strings of numbers. This is fairly\n",
    "# restrictive but the dataset is large so I can afford to be picky. It should also keep in\n",
    "# years\n",
    "\n",
    "def count_numbers(sentence):\n",
    "    return len(re.findall(r'\\b\\d+\\b', sentence))\n",
    "\n",
    "# Apply the function to the 'sentence' column\n",
    "df['number_count'] = df['sentence'].apply(count_numbers)\n",
    "\n",
    "# Remove rows where 'number_count' is five or more\n",
    "df = df[df['number_count'] <= 4]\n",
    "\n",
    "# Optionally, remove the 'number_count' column\n",
    "df = df.drop(columns=['number_count'])"
   ]
  },
  {
   "cell_type": "code",
   "execution_count": 47,
   "metadata": {},
   "outputs": [
    {
     "data": {
      "text/plain": [
       "id          2044233\n",
       "sentence    2044233\n",
       "dtype: int64"
      ]
     },
     "execution_count": 47,
     "metadata": {},
     "output_type": "execute_result"
    }
   ],
   "source": [
    "df.count()"
   ]
  },
  {
   "cell_type": "code",
   "execution_count": 48,
   "metadata": {},
   "outputs": [],
   "source": [
    "def has_odd_quotes(s: str) -> bool:\n",
    "    quotes = [\"'\", '\"', '“', '”', '‘', '’', '«', '»', '「', '」']\n",
    "    \n",
    "    for quote in quotes:\n",
    "        if s.count(quote) % 2 != 0:\n",
    "            return True\n",
    "    return False\n",
    "\n",
    "# Remove all sentences with an odd number of quotes\n",
    "df = df[~df['sentence'].apply(has_odd_quotes)]"
   ]
  },
  {
   "cell_type": "code",
   "execution_count": 49,
   "metadata": {},
   "outputs": [],
   "source": [
    "# Remove all sentences that start with a number\n",
    "df = df[~df['sentence'].apply(lambda s: s[0].isdigit())]\n",
    "\n",
    "# TODO: Remove all sentences that start with any non-valid character"
   ]
  },
  {
   "cell_type": "code",
   "execution_count": 50,
   "metadata": {},
   "outputs": [],
   "source": [
    "# Remove id column and save dataframes as csv\n",
    "df.to_csv(f\"../output_files/{language_code}/step3_sentences.csv\", sep='\\t', index=False)\n",
    "\n",
    "#reduced_df.to_csv(\"./reduced_french_sentences_cleaned_with_cluster_labels.csv\", sep='\\t', index=False)"
   ]
  },
  {
   "cell_type": "code",
   "execution_count": null,
   "metadata": {},
   "outputs": [],
   "source": []
  },
  {
   "cell_type": "code",
   "execution_count": null,
   "metadata": {},
   "outputs": [],
   "source": []
  }
 ],
 "metadata": {
  "kernelspec": {
   "display_name": "venv",
   "language": "python",
   "name": "python3"
  },
  "language_info": {
   "codemirror_mode": {
    "name": "ipython",
    "version": 3
   },
   "file_extension": ".py",
   "mimetype": "text/x-python",
   "name": "python",
   "nbconvert_exporter": "python",
   "pygments_lexer": "ipython3",
   "version": "3.11.6"
  },
  "orig_nbformat": 4
 },
 "nbformat": 4,
 "nbformat_minor": 2
}
