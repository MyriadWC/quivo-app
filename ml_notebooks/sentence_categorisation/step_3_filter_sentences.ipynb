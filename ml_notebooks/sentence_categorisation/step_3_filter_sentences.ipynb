{
 "cells": [
  {
   "cell_type": "markdown",
   "metadata": {},
   "source": [
    "Now I have a huge database of sentences (All under 200 chars) categorised into 1400 clusters. I now need to filter down this dataset to a much smaller dataset of cleaned sentences appropriate for use within the app.\n",
    "\n",
    "I want to filter things like:\n",
    "\n",
    "Websites and email addresses\n",
    "\n",
    "Long strings of the same character, such as Awwwwwwww. Filtering three will discard some roman numerals so four or more is what I chose\n",
    "\n"
   ]
  },
  {
   "cell_type": "code",
   "execution_count": 1,
   "metadata": {},
   "outputs": [],
   "source": [
    "import os\n",
    "import re\n",
    "import pandas as pd\n",
    "import constants"
   ]
  },
  {
   "cell_type": "code",
   "execution_count": 2,
   "metadata": {},
   "outputs": [],
   "source": [
    "constants.language_code = 'fr'"
   ]
  },
  {
   "cell_type": "code",
   "execution_count": 3,
   "metadata": {},
   "outputs": [],
   "source": [
    "filepath = f\"../output_files/{constants.language_code}/step2_sentences.csv\"\n",
    "\n",
    "df = pd.read_csv(filepath, delimiter='\\t')"
   ]
  },
  {
   "cell_type": "code",
   "execution_count": 4,
   "metadata": {},
   "outputs": [
    {
     "data": {
      "text/plain": [
       "id             1276184\n",
       "sentence       1276184\n",
       "translation    1276184\n",
       "dtype: int64"
      ]
     },
     "execution_count": 4,
     "metadata": {},
     "output_type": "execute_result"
    }
   ],
   "source": [
    "df.count()"
   ]
  },
  {
   "cell_type": "code",
   "execution_count": 5,
   "metadata": {},
   "outputs": [
    {
     "name": "stderr",
     "output_type": "stream",
     "text": [
      "C:\\Users\\Toby Usher\\AppData\\Local\\Temp\\ipykernel_30000\\2964828493.py:3: UserWarning: This pattern is interpreted as a regular expression, and has match groups. To actually get the groups, use str.extract.\n",
      "  df_filtered = df[df['sentence'].str.contains(r'([a-z])\\1\\1\\1', regex=True, na=False, case=False)]\n"
     ]
    }
   ],
   "source": [
    "# First get all sentences with three or more of the same roman character in a row\n",
    "# TODO: this needs to include special characters used in each language\n",
    "df_filtered = df[df['sentence'].str.contains(r'([a-z])\\1\\1\\1', regex=True, na=False, case=False)]"
   ]
  },
  {
   "cell_type": "code",
   "execution_count": 6,
   "metadata": {},
   "outputs": [
    {
     "data": {
      "text/plain": [
       "id             220\n",
       "sentence       220\n",
       "translation    220\n",
       "dtype: int64"
      ]
     },
     "execution_count": 6,
     "metadata": {},
     "output_type": "execute_result"
    }
   ],
   "source": [
    "df_filtered.count()"
   ]
  },
  {
   "cell_type": "code",
   "execution_count": 7,
   "metadata": {},
   "outputs": [
    {
     "data": {
      "text/html": [
       "<div>\n",
       "<style scoped>\n",
       "    .dataframe tbody tr th:only-of-type {\n",
       "        vertical-align: middle;\n",
       "    }\n",
       "\n",
       "    .dataframe tbody tr th {\n",
       "        vertical-align: top;\n",
       "    }\n",
       "\n",
       "    .dataframe thead th {\n",
       "        text-align: right;\n",
       "    }\n",
       "</style>\n",
       "<table border=\"1\" class=\"dataframe\">\n",
       "  <thead>\n",
       "    <tr style=\"text-align: right;\">\n",
       "      <th></th>\n",
       "      <th>id</th>\n",
       "      <th>sentence</th>\n",
       "      <th>translation</th>\n",
       "    </tr>\n",
       "  </thead>\n",
       "  <tbody>\n",
       "    <tr>\n",
       "      <th>3787</th>\n",
       "      <td>6594150.0</td>\n",
       "      <td>{\\fs72\\b0\\cHFFFFFF}Tu mens et tu le sais.</td>\n",
       "      <td>That's a lie and you know it.</td>\n",
       "    </tr>\n",
       "    <tr>\n",
       "      <th>54961</th>\n",
       "      <td>39221626.0</td>\n",
       "      <td>{\\1cH00ffff}Une vraie dent de dinosaure.</td>\n",
       "      <td>That is a genuine dinosaur tooth.</td>\n",
       "    </tr>\n",
       "    <tr>\n",
       "      <th>57332</th>\n",
       "      <td>17786412.0</td>\n",
       "      <td>Je voudrais finir mon morse à la crème ! - Mmm...</td>\n",
       "      <td>Can't I have a moment of peace and quiet to ea...</td>\n",
       "    </tr>\n",
       "    <tr>\n",
       "      <th>59945</th>\n",
       "      <td>16253612.0</td>\n",
       "      <td>{\\q2\\a2\\cHffffff}{\\cH00ffff} Après toi.</td>\n",
       "      <td>After you.</td>\n",
       "    </tr>\n",
       "    <tr>\n",
       "      <th>69054</th>\n",
       "      <td>16253226.0</td>\n",
       "      <td>{\\q2\\a2\\cHffffff}{\\cH00ffff} J'ai du travail.</td>\n",
       "      <td>I've got work to do.</td>\n",
       "    </tr>\n",
       "  </tbody>\n",
       "</table>\n",
       "</div>"
      ],
      "text/plain": [
       "               id                                           sentence  \\\n",
       "3787    6594150.0          {\\fs72\\b0\\cHFFFFFF}Tu mens et tu le sais.   \n",
       "54961  39221626.0           {\\1cH00ffff}Une vraie dent de dinosaure.   \n",
       "57332  17786412.0  Je voudrais finir mon morse à la crème ! - Mmm...   \n",
       "59945  16253612.0            {\\q2\\a2\\cHffffff}{\\cH00ffff} Après toi.   \n",
       "69054  16253226.0      {\\q2\\a2\\cHffffff}{\\cH00ffff} J'ai du travail.   \n",
       "\n",
       "                                             translation  \n",
       "3787                       That's a lie and you know it.  \n",
       "54961                  That is a genuine dinosaur tooth.  \n",
       "57332  Can't I have a moment of peace and quiet to ea...  \n",
       "59945                                         After you.  \n",
       "69054                               I've got work to do.  "
      ]
     },
     "execution_count": 7,
     "metadata": {},
     "output_type": "execute_result"
    }
   ],
   "source": [
    "df_filtered.head()"
   ]
  },
  {
   "cell_type": "code",
   "execution_count": 8,
   "metadata": {},
   "outputs": [
    {
     "name": "stderr",
     "output_type": "stream",
     "text": [
      "C:\\Users\\Toby Usher\\AppData\\Local\\Temp\\ipykernel_30000\\2782004905.py:2: UserWarning: This pattern is interpreted as a regular expression, and has match groups. To actually get the groups, use str.extract.\n",
      "  df = df[~df['sentence'].str.contains(r'([a-z])\\1\\1\\1', regex=True, na=False, case=False)]\n"
     ]
    }
   ],
   "source": [
    "# Remove these from the dataset\n",
    "df = df[~df['sentence'].str.contains(r'([a-z])\\1\\1\\1', regex=True, na=False, case=False)]"
   ]
  },
  {
   "cell_type": "code",
   "execution_count": 9,
   "metadata": {},
   "outputs": [],
   "source": [
    "# Remove web addresses and emails\n",
    "df = df[~df['sentence'].str.contains(r'www\\.|@|http://|\\\\\\\\|//', regex=True, na=False)]"
   ]
  },
  {
   "cell_type": "code",
   "execution_count": 10,
   "metadata": {},
   "outputs": [
    {
     "data": {
      "text/plain": [
       "id             1275910\n",
       "sentence       1275910\n",
       "translation    1275910\n",
       "dtype: int64"
      ]
     },
     "execution_count": 10,
     "metadata": {},
     "output_type": "execute_result"
    }
   ],
   "source": [
    "df.count()"
   ]
  },
  {
   "cell_type": "code",
   "execution_count": 11,
   "metadata": {},
   "outputs": [],
   "source": [
    "# Apart from anticonstitutionnellement and a few others, there are effectively no words over 20 letters in french, so any sentences with a string of characters longer than this should probably be removed.\n",
    "# This doesn't account for hyphens and apostrophes but words this long might cause wrapping issues in the app anyway.\n",
    "# 19\n",
    "\n",
    "regex = {\n",
    "    'fr': r'\\b\\w{20,}\\b',\n",
    "    'de': r'\\b\\w{40,}\\b' # Longest commonly-used word in german seems to be around 40 characters\n",
    "}[constants.language_code]\n",
    "\n",
    "df = df[~df['sentence'].str.contains(regex, regex=True, na=False)]"
   ]
  },
  {
   "cell_type": "code",
   "execution_count": 12,
   "metadata": {},
   "outputs": [],
   "source": [
    "# Remove any grammatical weirdness\n",
    "\"\"\"\n",
    "..\n",
    "''\n",
    "\"\"\n",
    "--\n",
    "=\n",
    ">\n",
    "<\n",
    "??\n",
    "((\n",
    "))\n",
    "#\n",
    "+++\n",
    "^\n",
    "|\n",
    "$$\n",
    "££\n",
    "€€\n",
    "¥¥\n",
    "%%\n",
    "&&\n",
    "*\n",
    "!!\n",
    "~\n",
    ";\n",
    ":\n",
    "¬\n",
    "œ\n",
    "\"\"\"\n",
    "\n",
    "strings_to_remove = ['\\.\\.', '\\.\\.', \"''\", '\"\"', '--', '=',\n",
    "    '>', '<', '\\?\\?', '\\(\\(', '\\)\\)', '#', '\\+\\+\\+', '\\^',\n",
    "    '\\|', '\\$\\$', '££', '€€', '¥¥', '%%', '&&', '\\*', '!!',\n",
    "    '~', ';', ':', '¬', '`', 'œ']\n",
    "\n",
    "# Create the regex pattern\n",
    "regex = '|'.join(strings_to_remove)\n",
    "\n",
    "df = df[~df['sentence'].str.contains(fr'{regex}', regex=True, na=False)]"
   ]
  },
  {
   "cell_type": "code",
   "execution_count": 13,
   "metadata": {},
   "outputs": [
    {
     "data": {
      "text/plain": [
       "id             1162550\n",
       "sentence       1162550\n",
       "translation    1162550\n",
       "dtype: int64"
      ]
     },
     "execution_count": 13,
     "metadata": {},
     "output_type": "execute_result"
    }
   ],
   "source": [
    "df.count()"
   ]
  },
  {
   "cell_type": "code",
   "execution_count": 14,
   "metadata": {},
   "outputs": [],
   "source": [
    "# Remove any sentences that contain three or more unique strings of numbers. This is fairly\n",
    "# restrictive but the dataset is large so I can afford to be picky\n",
    "\n",
    "def count_numbers(sentence):\n",
    "    return len(re.findall(r'\\b\\d+\\b', sentence))\n",
    "\n",
    "# Apply the function to the 'sentence' column\n",
    "df['number_count'] = df['sentence'].apply(count_numbers)\n",
    "\n",
    "# Remove rows where 'number_count' is three or more\n",
    "df = df[df['number_count'] < 3]\n",
    "\n",
    "# Optionally, remove the 'number_count' column\n",
    "df = df.drop(columns=['number_count'])"
   ]
  },
  {
   "cell_type": "code",
   "execution_count": 15,
   "metadata": {},
   "outputs": [
    {
     "data": {
      "text/plain": [
       "id             1160914\n",
       "sentence       1160914\n",
       "translation    1160914\n",
       "dtype: int64"
      ]
     },
     "execution_count": 15,
     "metadata": {},
     "output_type": "execute_result"
    }
   ],
   "source": [
    "df.count()"
   ]
  },
  {
   "cell_type": "code",
   "execution_count": 16,
   "metadata": {},
   "outputs": [],
   "source": [
    "# Remove any sentences that don't start with an allowed roman character\n",
    "\n",
    "# Define the list of allowed starting characters\n",
    "allowed_chars = {\n",
    "    'fr': '[a-zA-ZéèêëÉÈÊËàâäÀÂÄôöÔÖûüÛÜçÇîÎïÏ]',\n",
    "    'de': '[a-zA-ZäöüÄÖÜß]'\n",
    "    }[constants.language_code]\n",
    "\n",
    "pattern = f'^[^{allowed_chars}]'\n",
    "\n",
    "# Use pattern to remove sentences that don't start with the allowed characters\n",
    "df = df[~df['sentence'].str.match(pattern)]"
   ]
  },
  {
   "cell_type": "code",
   "execution_count": 19,
   "metadata": {},
   "outputs": [],
   "source": [
    "# Remove sentences starting with a space or -. Not sure why these weren't removed before\n",
    "df = df[~df['sentence'].str.startswith((' ', '-'))]"
   ]
  },
  {
   "cell_type": "code",
   "execution_count": 17,
   "metadata": {},
   "outputs": [],
   "source": [
    "# Remove any sentences where there's an uneven number of quotation marks\n",
    "\n",
    "# Define the quotation marks\n",
    "quotation_marks = [\n",
    "    \"'\", '\"', '`', '«', '»', '‘', '’', '“', '”', '„', '‚', '「',\n",
    "    '」', '『', '』', '《', '》', '〈', '〉', '‚', '‛', '„', '‟',\n",
    "    '‘', '’', '“', '”', '‹', '›', '«', '»', '｢', '｣', '｡', '｠',\n",
    "    '｟', '｠', '′', '″'\n",
    "    ]\n",
    "\n",
    "def has_uneven_quotation_marks(sentence):\n",
    "    for mark in quotation_marks:\n",
    "        if sentence.count(mark) % 2 != 0:\n",
    "            return True\n",
    "    return False\n",
    "\n",
    "df = df[~df['sentence'].apply(has_uneven_quotation_marks)]\n"
   ]
  },
  {
   "cell_type": "code",
   "execution_count": 20,
   "metadata": {},
   "outputs": [],
   "source": [
    "# Remove id column and save dataframes as csv\n",
    "df.to_csv(f\"../output_files/{constants.language_code}/step3_sentences.csv\", sep='\\t', index=False)"
   ]
  },
  {
   "cell_type": "code",
   "execution_count": null,
   "metadata": {},
   "outputs": [],
   "source": []
  }
 ],
 "metadata": {
  "kernelspec": {
   "display_name": "venv",
   "language": "python",
   "name": "python3"
  },
  "language_info": {
   "codemirror_mode": {
    "name": "ipython",
    "version": 3
   },
   "file_extension": ".py",
   "mimetype": "text/x-python",
   "name": "python",
   "nbconvert_exporter": "python",
   "pygments_lexer": "ipython3",
   "version": "3.11.6"
  },
  "orig_nbformat": 4
 },
 "nbformat": 4,
 "nbformat_minor": 2
}
