{
 "cells": [
  {
   "cell_type": "markdown",
   "metadata": {},
   "source": [
    "Now I have a huge database of sentences (All under 200 chars) categorised into 1400 clusters. I now need to filter down this dataset to a much smaller dataset of cleaned sentences appropriate for use within the app.\n",
    "\n",
    "I want to filter things like:\n",
    "\n",
    "Websites and email addresses\n",
    "\n",
    "Long strings of the same character, such as Awwwwwwww. Filtering three will discard some roman numerals so four or more is what I chose\n",
    "\n"
   ]
  },
  {
   "cell_type": "code",
   "execution_count": 40,
   "metadata": {},
   "outputs": [],
   "source": [
    "import os\n",
    "import re\n",
    "import pandas as pd\n",
    "import constants"
   ]
  },
  {
   "cell_type": "code",
   "execution_count": 41,
   "metadata": {},
   "outputs": [],
   "source": [
    "constants.language_code = 'fr'"
   ]
  },
  {
   "cell_type": "code",
   "execution_count": 42,
   "metadata": {},
   "outputs": [],
   "source": [
    "filepath = f\"../output_files/{constants.language_code}/step2_sentences.csv\"\n",
    "\n",
    "df = pd.read_csv(filepath, delimiter='\\t')"
   ]
  },
  {
   "cell_type": "code",
   "execution_count": 43,
   "metadata": {},
   "outputs": [
    {
     "data": {
      "text/plain": [
       "sentence               215109\n",
       "translated_sentence    215109\n",
       "dtype: int64"
      ]
     },
     "execution_count": 43,
     "metadata": {},
     "output_type": "execute_result"
    }
   ],
   "source": [
    "df.count()"
   ]
  },
  {
   "cell_type": "code",
   "execution_count": 44,
   "metadata": {},
   "outputs": [
    {
     "name": "stderr",
     "output_type": "stream",
     "text": [
      "C:\\Users\\Toby Usher\\AppData\\Local\\Temp\\ipykernel_10692\\2786149022.py:11: UserWarning: This pattern is interpreted as a regular expression, and has match groups. To actually get the groups, use str.extract.\n",
      "  df_filtered = df[df['sentence'].str.contains(fr'({regex})\\1\\1\\1', regex=True, na=False, case=False)]\n"
     ]
    }
   ],
   "source": [
    "regex = {\n",
    "    'fr': '[a-zA-ZéèêëÉÈÊËàâäÀÂÄôöÔÖûüÛÜçÇîÎïÏ]',\n",
    "    'de': '[a-zA-ZäöüÄÖÜß]',\n",
    "    'ru': '[А-Яа-яЁё]',\n",
    "    'th': '[]'\n",
    "}[constants.language_code]\n",
    "\n",
    "# First get all sentences with three or more of the same character in a row\n",
    "# TODO: this needs to include special characters used in each language\n",
    "if constants.language_code != 'th':\n",
    "    df_filtered = df[df['sentence'].str.contains(fr'({regex})\\1\\1\\1', regex=True, na=False, case=False)]"
   ]
  },
  {
   "cell_type": "code",
   "execution_count": 45,
   "metadata": {},
   "outputs": [
    {
     "name": "stderr",
     "output_type": "stream",
     "text": [
      "C:\\Users\\Toby Usher\\AppData\\Local\\Temp\\ipykernel_10692\\1892520907.py:2: UserWarning: This pattern is interpreted as a regular expression, and has match groups. To actually get the groups, use str.extract.\n",
      "  df = df[~df['sentence'].str.contains(fr'({regex})\\1\\1\\1', regex=True, na=False, case=False)]\n"
     ]
    }
   ],
   "source": [
    "# Remove these from the dataset\n",
    "df = df[~df['sentence'].str.contains(fr'({regex})\\1\\1\\1', regex=True, na=False, case=False)]"
   ]
  },
  {
   "cell_type": "code",
   "execution_count": 46,
   "metadata": {},
   "outputs": [],
   "source": [
    "# Remove web addresses and emails\n",
    "df = df[~df['sentence'].str.contains(r'www\\.|@|http://|\\\\\\\\|//', regex=True, na=False)]"
   ]
  },
  {
   "cell_type": "code",
   "execution_count": 47,
   "metadata": {},
   "outputs": [
    {
     "data": {
      "text/plain": [
       "sentence               215102\n",
       "translated_sentence    215102\n",
       "dtype: int64"
      ]
     },
     "execution_count": 47,
     "metadata": {},
     "output_type": "execute_result"
    }
   ],
   "source": [
    "df.count()"
   ]
  },
  {
   "cell_type": "code",
   "execution_count": 48,
   "metadata": {},
   "outputs": [],
   "source": [
    "# Apart from anticonstitutionnellement and a few others, there are effectively no words over 20 letters in french, so any sentences with a string of characters longer than this should probably be removed.\n",
    "# This doesn't account for hyphens and apostrophes but words this long might cause wrapping issues in the app anyway.\n",
    "# 19\n",
    "\n",
    "# NOTE: Shorthand w is only standard alphanumeric so have to change\n",
    "\n",
    "regex = {\n",
    "    'fr': r'\\b\\w{20,}\\b',\n",
    "    'de': r'\\b\\w{40,}\\b', # Longest commonly-used word in german seems to be around 40 characters,\n",
    "    'ru': r'\\b\\w{32,}\\b', # рентгеноэлектрокардиографический\n",
    "    'th': ''\n",
    "}[constants.language_code]\n",
    "\n",
    "if constants.language_code not in ['th']: # Not applicable for thai\n",
    "    df = df[~df['sentence'].str.contains(regex, regex=True, na=False)]"
   ]
  },
  {
   "cell_type": "code",
   "execution_count": 49,
   "metadata": {},
   "outputs": [],
   "source": [
    "# Remove any grammatical weirdness\n",
    "\n",
    "strings_to_remove = ['\\\\', '\\.\\.', \"''\", '\"\"', '--', '=',\n",
    "    '>', '<', '\\?\\?', '\\(\\(', '\\)\\)', '#', '\\+\\+\\+', '\\^',\n",
    "    '\\|', '\\$\\$', '££', '€€', '¥¥', '%%', '&&', '\\*', '!!',\n",
    "    '~', ';', ':', '¬', '`', 'œ', '♪', '╞', '╢', '╪', '╟', \n",
    "    '▌', '┴', '╩', '│', '']\n",
    "\n",
    "# Create the regex pattern\n",
    "regex = '|'.join(strings_to_remove)\n",
    "\n",
    "df = df[~df['sentence'].str.contains(fr'{regex}', regex=True, na=False)]"
   ]
  },
  {
   "cell_type": "code",
   "execution_count": 50,
   "metadata": {},
   "outputs": [
    {
     "data": {
      "text/plain": [
       "sentence               212090\n",
       "translated_sentence    212090\n",
       "dtype: int64"
      ]
     },
     "execution_count": 50,
     "metadata": {},
     "output_type": "execute_result"
    }
   ],
   "source": [
    "df.count()"
   ]
  },
  {
   "cell_type": "code",
   "execution_count": 51,
   "metadata": {},
   "outputs": [],
   "source": [
    "# Remove any sentences that contain three or more unique strings of numbers. This is fairly\n",
    "# restrictive\n",
    "\n",
    "def count_numbers(sentence):\n",
    "    return len(re.findall(r'\\b\\d+\\b', sentence))\n",
    "\n",
    "# Apply the function to the 'sentence' column\n",
    "df['number_count'] = df['sentence'].apply(count_numbers)\n",
    "\n",
    "# Remove rows where 'number_count' is three or more\n",
    "df = df[df['number_count'] < 3]\n",
    "\n",
    "# Optionally, remove the 'number_count' column\n",
    "df = df.drop(columns=['number_count'])"
   ]
  },
  {
   "cell_type": "code",
   "execution_count": 52,
   "metadata": {},
   "outputs": [
    {
     "data": {
      "text/plain": [
       "sentence               212024\n",
       "translated_sentence    212024\n",
       "dtype: int64"
      ]
     },
     "execution_count": 52,
     "metadata": {},
     "output_type": "execute_result"
    }
   ],
   "source": [
    "df.count()"
   ]
  },
  {
   "cell_type": "code",
   "execution_count": 53,
   "metadata": {},
   "outputs": [],
   "source": [
    "# Remove any sentences that don't start with an allowed character\n",
    "\n",
    "# Define the list of allowed starting characters\n",
    "allowed_chars = {\n",
    "    'fr': '[a-zA-ZéèêëÉÈÊËàâäÀÂÄôöÔÖûüÛÜçÇîÎïÏ]',\n",
    "    'de': '[a-zA-ZäöüÄÖÜß]',\n",
    "    'ru': '[А-Яа-яЁё]',\n",
    "    'th': ''\n",
    "    }[constants.language_code]\n",
    "\n",
    "if constants.language_code not in ['th']: # Not applicable for thai\n",
    "\n",
    "    pattern = f'^[^{allowed_chars}]'\n",
    "\n",
    "    # Use pattern to remove sentences that don't start with the allowed characters\n",
    "    df = df[~df['sentence'].str.match(pattern)]"
   ]
  },
  {
   "cell_type": "code",
   "execution_count": 54,
   "metadata": {},
   "outputs": [],
   "source": [
    "# Remove sentences starting with a space or -. Not sure why these weren't removed before\n",
    "df = df[~df['sentence'].str.startswith((' ', '-', '—'))]\n",
    "df = df[~df['translated_sentence'].str.startswith((' ', '-', '—'))]"
   ]
  },
  {
   "cell_type": "code",
   "execution_count": 55,
   "metadata": {},
   "outputs": [],
   "source": [
    "# In russian and thai, remove any sentences that contain roman characters\n",
    "# This will miss any accented characters, which is a potential issue\n",
    "if constants.language_code in ['ru', 'th']:\n",
    "    df = df[~df['sentence'].str.contains('[a-zA-Z]', regex=True)]"
   ]
  },
  {
   "cell_type": "code",
   "execution_count": 56,
   "metadata": {},
   "outputs": [],
   "source": [
    "# Remove any sentences where there's an uneven number of quotation marks\n",
    "\n",
    "# Define the quotation marks\n",
    "quotation_marks = [\n",
    "    \"'\", '\"', '`', '«', '»', '‘', '’', '“', '”', '„', '‚', '「',\n",
    "    '」', '『', '』', '《', '》', '〈', '〉', '‚', '‛', '„', '‟',\n",
    "    '‘', '’', '“', '”', '‹', '›', '«', '»', '｢', '｣', '｡', '｠',\n",
    "    '｟', '｠', '′', '″'\n",
    "    ]\n",
    "\n",
    "def has_uneven_quotation_marks(sentence):\n",
    "    for mark in quotation_marks:\n",
    "        if sentence.count(mark) % 2 != 0:\n",
    "            return True\n",
    "    return False\n",
    "\n",
    "df = df[~df['sentence'].apply(has_uneven_quotation_marks)]\n"
   ]
  },
  {
   "cell_type": "code",
   "execution_count": 57,
   "metadata": {},
   "outputs": [],
   "source": [
    "# Remove id column and save dataframes as csv\n",
    "df.to_csv(f\"../output_files/{constants.language_code}/step3_sentences.csv\", sep='\\t', index=False)"
   ]
  },
  {
   "cell_type": "code",
   "execution_count": null,
   "metadata": {},
   "outputs": [],
   "source": []
  }
 ],
 "metadata": {
  "kernelspec": {
   "display_name": "venv",
   "language": "python",
   "name": "python3"
  },
  "language_info": {
   "codemirror_mode": {
    "name": "ipython",
    "version": 3
   },
   "file_extension": ".py",
   "mimetype": "text/x-python",
   "name": "python",
   "nbconvert_exporter": "python",
   "pygments_lexer": "ipython3",
   "version": "3.11.9"
  },
  "orig_nbformat": 4
 },
 "nbformat": 4,
 "nbformat_minor": 2
}
