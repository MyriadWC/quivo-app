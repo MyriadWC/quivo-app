{
 "cells": [
  {
   "cell_type": "markdown",
   "metadata": {},
   "source": [
    "Now I have a huge database of french sentences (All under 200 chars) categorised into 1400 clusters. I now need to filter down this dataset to a much smaller dataset of cleaned sentences appropriate for use within the app.\n",
    "\n",
    "I want to filter things like:\n",
    "\n",
    "Websites and email addresses\n",
    "\n",
    "Long strings of the same character, such as Awwwwwwww. Filtering three will discard some roman numerals so four or more is what I chose\n",
    "\n"
   ]
  },
  {
   "cell_type": "code",
   "execution_count": 24,
   "metadata": {},
   "outputs": [],
   "source": [
    "import os\n",
    "import re\n",
    "import pandas as pd\n",
    "import constants"
   ]
  },
  {
   "cell_type": "code",
   "execution_count": 25,
   "metadata": {},
   "outputs": [],
   "source": [
    "filepath = f\"../output_files/{constants.language_code}/step2_sentences.csv\"\n",
    "\n",
    "df = pd.read_csv(filepath, delimiter='\\t')"
   ]
  },
  {
   "cell_type": "code",
   "execution_count": 26,
   "metadata": {},
   "outputs": [
    {
     "data": {
      "text/plain": [
       "id          826973\n",
       "sentence    826973\n",
       "dtype: int64"
      ]
     },
     "execution_count": 26,
     "metadata": {},
     "output_type": "execute_result"
    }
   ],
   "source": [
    "df.count()"
   ]
  },
  {
   "cell_type": "code",
   "execution_count": 27,
   "metadata": {},
   "outputs": [
    {
     "name": "stderr",
     "output_type": "stream",
     "text": [
      "C:\\Users\\Toby Usher\\AppData\\Local\\Temp\\ipykernel_9396\\2964828493.py:3: UserWarning: This pattern is interpreted as a regular expression, and has match groups. To actually get the groups, use str.extract.\n",
      "  df_filtered = df[df['sentence'].str.contains(r'([a-z])\\1\\1\\1', regex=True, na=False, case=False)]\n"
     ]
    }
   ],
   "source": [
    "# First get all sentences with three or more of the same roman character in a row\n",
    "# TODO: this needs to include special characters used in each language\n",
    "df_filtered = df[df['sentence'].str.contains(r'([a-z])\\1\\1\\1', regex=True, na=False, case=False)]"
   ]
  },
  {
   "cell_type": "code",
   "execution_count": 28,
   "metadata": {},
   "outputs": [
    {
     "data": {
      "text/plain": [
       "id          95\n",
       "sentence    95\n",
       "dtype: int64"
      ]
     },
     "execution_count": 28,
     "metadata": {},
     "output_type": "execute_result"
    }
   ],
   "source": [
    "df_filtered.count()"
   ]
  },
  {
   "cell_type": "code",
   "execution_count": 29,
   "metadata": {},
   "outputs": [
    {
     "data": {
      "text/html": [
       "<div>\n",
       "<style scoped>\n",
       "    .dataframe tbody tr th:only-of-type {\n",
       "        vertical-align: middle;\n",
       "    }\n",
       "\n",
       "    .dataframe tbody tr th {\n",
       "        vertical-align: top;\n",
       "    }\n",
       "\n",
       "    .dataframe thead th {\n",
       "        text-align: right;\n",
       "    }\n",
       "</style>\n",
       "<table border=\"1\" class=\"dataframe\">\n",
       "  <thead>\n",
       "    <tr style=\"text-align: right;\">\n",
       "      <th></th>\n",
       "      <th>id</th>\n",
       "      <th>sentence</th>\n",
       "    </tr>\n",
       "  </thead>\n",
       "  <tbody>\n",
       "    <tr>\n",
       "      <th>2731</th>\n",
       "      <td>3338</td>\n",
       "      <td>Cher M XXXXXX, CANALSAT lance aujourd'hui une ...</td>\n",
       "    </tr>\n",
       "    <tr>\n",
       "      <th>3424</th>\n",
       "      <td>4178</td>\n",
       "      <td>Rougui est passé par là: il a fait un gros tra...</td>\n",
       "    </tr>\n",
       "    <tr>\n",
       "      <th>16987</th>\n",
       "      <td>20460</td>\n",
       "      <td>ZZZzzz C'est vraiment le dernier?</td>\n",
       "    </tr>\n",
       "    <tr>\n",
       "      <th>22584</th>\n",
       "      <td>27182</td>\n",
       "      <td>Attention : \"La BCD\" nécessite que le format d...</td>\n",
       "    </tr>\n",
       "    <tr>\n",
       "      <th>28052</th>\n",
       "      <td>33661</td>\n",
       "      <td>Mon espérence sur ce peut-être nouveau zelda s...</td>\n",
       "    </tr>\n",
       "  </tbody>\n",
       "</table>\n",
       "</div>"
      ],
      "text/plain": [
       "          id                                           sentence\n",
       "2731    3338  Cher M XXXXXX, CANALSAT lance aujourd'hui une ...\n",
       "3424    4178  Rougui est passé par là: il a fait un gros tra...\n",
       "16987  20460                  ZZZzzz C'est vraiment le dernier?\n",
       "22584  27182  Attention : \"La BCD\" nécessite que le format d...\n",
       "28052  33661  Mon espérence sur ce peut-être nouveau zelda s..."
      ]
     },
     "execution_count": 29,
     "metadata": {},
     "output_type": "execute_result"
    }
   ],
   "source": [
    "df_filtered.head()"
   ]
  },
  {
   "cell_type": "code",
   "execution_count": 30,
   "metadata": {},
   "outputs": [
    {
     "name": "stderr",
     "output_type": "stream",
     "text": [
      "C:\\Users\\Toby Usher\\AppData\\Local\\Temp\\ipykernel_9396\\2782004905.py:2: UserWarning: This pattern is interpreted as a regular expression, and has match groups. To actually get the groups, use str.extract.\n",
      "  df = df[~df['sentence'].str.contains(r'([a-z])\\1\\1\\1', regex=True, na=False, case=False)]\n"
     ]
    }
   ],
   "source": [
    "# Remove these from the dataset\n",
    "df = df[~df['sentence'].str.contains(r'([a-z])\\1\\1\\1', regex=True, na=False, case=False)]"
   ]
  },
  {
   "cell_type": "code",
   "execution_count": 31,
   "metadata": {},
   "outputs": [],
   "source": [
    "# Remove web addresses and emails\n",
    "df = df[~df['sentence'].str.contains(r'www\\.|@|http://|\\\\\\\\|//', regex=True, na=False)]"
   ]
  },
  {
   "cell_type": "code",
   "execution_count": 32,
   "metadata": {},
   "outputs": [
    {
     "data": {
      "text/plain": [
       "id          825083\n",
       "sentence    825083\n",
       "dtype: int64"
      ]
     },
     "execution_count": 32,
     "metadata": {},
     "output_type": "execute_result"
    }
   ],
   "source": [
    "df.count()"
   ]
  },
  {
   "cell_type": "code",
   "execution_count": 33,
   "metadata": {},
   "outputs": [],
   "source": [
    "# Apart from anticonstitutionnellement and a few others, there are effectively no words over 20 letters in french, so any sentences with a string of characters longer than this should probably be removed.\n",
    "# This doesn't account for hyphens and apostrophes but words this long might cause wrapping issues in the app anyway.\n",
    "# 19\n",
    "\n",
    "regex = {\n",
    "    'fr': r'\\b\\w{20,}\\b',\n",
    "    'de': r'\\b\\w{40,}\\b' # Longest commonly-used word in german seems to be around 40 characters\n",
    "}[constants.language_code]\n",
    "\n",
    "df = df[~df['sentence'].str.contains(regex, regex=True, na=False)]"
   ]
  },
  {
   "cell_type": "code",
   "execution_count": 34,
   "metadata": {},
   "outputs": [],
   "source": [
    "# Remove any grammatical weirdness\n",
    "\"\"\"\n",
    "..\n",
    "''\n",
    "\"\"\n",
    "--\n",
    "=\n",
    ">\n",
    "<\n",
    "??\n",
    "((\n",
    "))\n",
    "#\n",
    "+++\n",
    "^\n",
    "|\n",
    "$$\n",
    "££\n",
    "€€\n",
    "¥¥\n",
    "%%\n",
    "&&\n",
    "*\n",
    "!!\n",
    "~\n",
    ";\n",
    ":\n",
    "¬\n",
    "\"\"\"\n",
    "\n",
    "strings_to_remove = ['\\.\\.', '\\.\\.', \"''\", '\"\"', '--', '=',\n",
    "    '>', '<', '\\?\\?', '\\(\\(', '\\)\\)', '#', '\\+\\+\\+', '\\^',\n",
    "    '\\|', '\\$\\$', '££', '€€', '¥¥', '%%', '&&', '\\*', '!!',\n",
    "    '~', ';', ':', '¬', '`']\n",
    "\n",
    "# Create the regex pattern\n",
    "regex = '|'.join(strings_to_remove)\n",
    "\n",
    "df = df[~df['sentence'].str.contains(fr'{regex}', regex=True, na=False)]"
   ]
  },
  {
   "cell_type": "code",
   "execution_count": 35,
   "metadata": {},
   "outputs": [
    {
     "data": {
      "text/plain": [
       "id          737905\n",
       "sentence    737905\n",
       "dtype: int64"
      ]
     },
     "execution_count": 35,
     "metadata": {},
     "output_type": "execute_result"
    }
   ],
   "source": [
    "df.count()"
   ]
  },
  {
   "cell_type": "code",
   "execution_count": 36,
   "metadata": {},
   "outputs": [],
   "source": [
    "# Remove any sentences that contain three or more unique strings of numbers. This is fairly\n",
    "# restrictive but the dataset is large so I can afford to be picky\n",
    "\n",
    "def count_numbers(sentence):\n",
    "    return len(re.findall(r'\\b\\d+\\b', sentence))\n",
    "\n",
    "# Apply the function to the 'sentence' column\n",
    "df['number_count'] = df['sentence'].apply(count_numbers)\n",
    "\n",
    "# Remove rows where 'number_count' is three or more\n",
    "df = df[df['number_count'] < 3]\n",
    "\n",
    "# Optionally, remove the 'number_count' column\n",
    "df = df.drop(columns=['number_count'])"
   ]
  },
  {
   "cell_type": "code",
   "execution_count": 37,
   "metadata": {},
   "outputs": [
    {
     "data": {
      "text/plain": [
       "id          698449\n",
       "sentence    698449\n",
       "dtype: int64"
      ]
     },
     "execution_count": 37,
     "metadata": {},
     "output_type": "execute_result"
    }
   ],
   "source": [
    "df.count()"
   ]
  },
  {
   "cell_type": "code",
   "execution_count": 38,
   "metadata": {},
   "outputs": [],
   "source": [
    "# Remove any sentences that don't start with an allowed roman character\n",
    "\n",
    "# Define the list of allowed starting characters\n",
    "allowed_chars = {\n",
    "    'fr': '[a-zA-ZéèêëÉÈÊËàâäÀÂÄôöÔÖûüÛÜçÇîÎïÏ]',\n",
    "    'de': '[a-zA-ZäöüÄÖÜß]'\n",
    "    }\n",
    "\n",
    "pattern = f'^[^{allowed_chars}]'\n",
    "\n",
    "# Use pattern to remove sentences that don't start with the allowed characters\n",
    "sentences = [\"Your sentences go here.\"]\n",
    "clean_sentences = [sentence for sentence in sentences if not re.match(pattern, sentence)]"
   ]
  },
  {
   "cell_type": "code",
   "execution_count": 39,
   "metadata": {},
   "outputs": [],
   "source": [
    "# Remove any sentences where there's an uneven number of quotation marks\n",
    "\n",
    "# Define the quotation marks\n",
    "quotation_marks = [\n",
    "    \"'\", '\"', '`', '«', '»', '‘', '’', '“', '”', '„', '‚', '「',\n",
    "    '」', '『', '』', '《', '》', '〈', '〉', '‚', '‛', '„', '‟',\n",
    "    '‘', '’', '“', '”', '‹', '›', '«', '»', '｢', '｣', '｡', '｠',\n",
    "    '｟', '｠', '′', '″'\n",
    "    ]\n",
    "\n",
    "def has_uneven_quotation_marks(sentence):\n",
    "    for mark in quotation_marks:\n",
    "        if sentence.count(mark) % 2 != 0:\n",
    "            return True\n",
    "    return False\n",
    "\n",
    "df = df[~df['sentence'].apply(has_uneven_quotation_marks)]\n"
   ]
  },
  {
   "cell_type": "code",
   "execution_count": 40,
   "metadata": {},
   "outputs": [],
   "source": [
    "# Remove id column and save dataframes as csv\n",
    "df.to_csv(f\"../output_files/{constants.language_code}/step3_sentences.csv\", sep='\\t', index=False)"
   ]
  },
  {
   "cell_type": "code",
   "execution_count": null,
   "metadata": {},
   "outputs": [],
   "source": []
  }
 ],
 "metadata": {
  "kernelspec": {
   "display_name": "venv",
   "language": "python",
   "name": "python3"
  },
  "language_info": {
   "codemirror_mode": {
    "name": "ipython",
    "version": 3
   },
   "file_extension": ".py",
   "mimetype": "text/x-python",
   "name": "python",
   "nbconvert_exporter": "python",
   "pygments_lexer": "ipython3",
   "version": "3.11.6"
  },
  "orig_nbformat": 4
 },
 "nbformat": 4,
 "nbformat_minor": 2
}
