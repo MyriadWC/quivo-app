{
 "cells": [
  {
   "cell_type": "markdown",
   "metadata": {},
   "source": [
    "Now I have a huge database of sentences (All under 200 chars) categorised into 1400 clusters. I now need to filter down this dataset to a much smaller dataset of cleaned sentences appropriate for use within the app.\n",
    "\n",
    "I want to filter things like:\n",
    "\n",
    "Websites and email addresses\n",
    "\n",
    "Long strings of the same character, such as Awwwwwwww. Filtering three will discard some roman numerals so four or more is what I chose\n",
    "\n"
   ]
  },
  {
   "cell_type": "code",
   "execution_count": 21,
   "metadata": {},
   "outputs": [],
   "source": [
    "import os\n",
    "import re\n",
    "import pandas as pd\n",
    "import constants"
   ]
  },
  {
   "cell_type": "code",
   "execution_count": 22,
   "metadata": {},
   "outputs": [],
   "source": [
    "constants.language_code = 'ru'"
   ]
  },
  {
   "cell_type": "code",
   "execution_count": 23,
   "metadata": {},
   "outputs": [],
   "source": [
    "filepath = f\"../output_files/{constants.language_code}/step2_sentences.csv\"\n",
    "\n",
    "df = pd.read_csv(filepath, delimiter='\\t')"
   ]
  },
  {
   "cell_type": "code",
   "execution_count": 24,
   "metadata": {},
   "outputs": [
    {
     "data": {
      "text/plain": [
       "id                     1125846\n",
       "sentence               1125846\n",
       "translated_sentence    1125846\n",
       "dtype: int64"
      ]
     },
     "execution_count": 24,
     "metadata": {},
     "output_type": "execute_result"
    }
   ],
   "source": [
    "df.count()"
   ]
  },
  {
   "cell_type": "code",
   "execution_count": 28,
   "metadata": {},
   "outputs": [
    {
     "name": "stderr",
     "output_type": "stream",
     "text": [
      "C:\\Users\\Toby Usher\\AppData\\Local\\Temp\\ipykernel_30000\\936731427.py:9: UserWarning: This pattern is interpreted as a regular expression, and has match groups. To actually get the groups, use str.extract.\n",
      "  df_filtered = df[df['sentence'].str.contains(fr'({regex})\\1\\1\\1', regex=True, na=False, case=False)]\n"
     ]
    }
   ],
   "source": [
    "regex = {\n",
    "    'fr': '[a-zA-ZéèêëÉÈÊËàâäÀÂÄôöÔÖûüÛÜçÇîÎïÏ]',\n",
    "    'de': '[a-zA-ZäöüÄÖÜß]',\n",
    "    'ru': '[А-Яа-яЁё]'\n",
    "}[constants.language_code]\n",
    "\n",
    "# First get all sentences with three or more of the same character in a row\n",
    "# TODO: this needs to include special characters used in each language\n",
    "df_filtered = df[df['sentence'].str.contains(fr'({regex})\\1\\1\\1', regex=True, na=False, case=False)]"
   ]
  },
  {
   "cell_type": "code",
   "execution_count": 29,
   "metadata": {},
   "outputs": [
    {
     "data": {
      "text/plain": [
       "id                     94\n",
       "sentence               94\n",
       "translated_sentence    94\n",
       "dtype: int64"
      ]
     },
     "execution_count": 29,
     "metadata": {},
     "output_type": "execute_result"
    }
   ],
   "source": [
    "df_filtered.count()"
   ]
  },
  {
   "cell_type": "code",
   "execution_count": 30,
   "metadata": {},
   "outputs": [
    {
     "data": {
      "text/html": [
       "<div>\n",
       "<style scoped>\n",
       "    .dataframe tbody tr th:only-of-type {\n",
       "        vertical-align: middle;\n",
       "    }\n",
       "\n",
       "    .dataframe tbody tr th {\n",
       "        vertical-align: top;\n",
       "    }\n",
       "\n",
       "    .dataframe thead th {\n",
       "        text-align: right;\n",
       "    }\n",
       "</style>\n",
       "<table border=\"1\" class=\"dataframe\">\n",
       "  <thead>\n",
       "    <tr style=\"text-align: right;\">\n",
       "      <th></th>\n",
       "      <th>id</th>\n",
       "      <th>sentence</th>\n",
       "      <th>translated_sentence</th>\n",
       "    </tr>\n",
       "  </thead>\n",
       "  <tbody>\n",
       "    <tr>\n",
       "      <th>5612</th>\n",
       "      <td>5417737.0</td>\n",
       "      <td>Могу я предположить, в надежде получить \"уаааа...</td>\n",
       "      <td>Can I suggest, in the hope I get a \"waaah\", th...</td>\n",
       "    </tr>\n",
       "    <tr>\n",
       "      <th>7281</th>\n",
       "      <td>14826452.0</td>\n",
       "      <td>Оооо! Это потрясающе и страшно!</td>\n",
       "      <td>This is awesome and scary!</td>\n",
       "    </tr>\n",
       "    <tr>\n",
       "      <th>8776</th>\n",
       "      <td>1033494.0</td>\n",
       "      <td>Карп, карп, карп, карп, карп, прррр...</td>\n",
       "      <td>Carp, carp, carp, carp, carp ...</td>\n",
       "    </tr>\n",
       "    <tr>\n",
       "      <th>9112</th>\n",
       "      <td>11326939.0</td>\n",
       "      <td>И поэтомуууууу, клей есть нельзя</td>\n",
       "      <td>? And that's why we-ee-ee don't eat glue. ?</td>\n",
       "    </tr>\n",
       "    <tr>\n",
       "      <th>10567</th>\n",
       "      <td>15316370.0</td>\n",
       "      <td>Попробуй с другой стороны. Чччччто за чёрт.......</td>\n",
       "      <td>Move out of the way. kind of strong bastard ar...</td>\n",
       "    </tr>\n",
       "  </tbody>\n",
       "</table>\n",
       "</div>"
      ],
      "text/plain": [
       "               id                                           sentence  \\\n",
       "5612    5417737.0  Могу я предположить, в надежде получить \"уаааа...   \n",
       "7281   14826452.0                    Оооо! Это потрясающе и страшно!   \n",
       "8776    1033494.0             Карп, карп, карп, карп, карп, прррр...   \n",
       "9112   11326939.0                   И поэтомуууууу, клей есть нельзя   \n",
       "10567  15316370.0  Попробуй с другой стороны. Чччччто за чёрт.......   \n",
       "\n",
       "                                     translated_sentence  \n",
       "5612   Can I suggest, in the hope I get a \"waaah\", th...  \n",
       "7281                          This is awesome and scary!  \n",
       "8776                    Carp, carp, carp, carp, carp ...  \n",
       "9112         ? And that's why we-ee-ee don't eat glue. ?  \n",
       "10567  Move out of the way. kind of strong bastard ar...  "
      ]
     },
     "execution_count": 30,
     "metadata": {},
     "output_type": "execute_result"
    }
   ],
   "source": [
    "df_filtered.head()  "
   ]
  },
  {
   "cell_type": "code",
   "execution_count": 31,
   "metadata": {},
   "outputs": [
    {
     "name": "stderr",
     "output_type": "stream",
     "text": [
      "C:\\Users\\Toby Usher\\AppData\\Local\\Temp\\ipykernel_30000\\1892520907.py:2: UserWarning: This pattern is interpreted as a regular expression, and has match groups. To actually get the groups, use str.extract.\n",
      "  df = df[~df['sentence'].str.contains(fr'({regex})\\1\\1\\1', regex=True, na=False, case=False)]\n"
     ]
    }
   ],
   "source": [
    "# Remove these from the dataset\n",
    "df = df[~df['sentence'].str.contains(fr'({regex})\\1\\1\\1', regex=True, na=False, case=False)]"
   ]
  },
  {
   "cell_type": "code",
   "execution_count": 32,
   "metadata": {},
   "outputs": [],
   "source": [
    "# Remove web addresses and emails\n",
    "df = df[~df['sentence'].str.contains(r'www\\.|@|http://|\\\\\\\\|//', regex=True, na=False)]"
   ]
  },
  {
   "cell_type": "code",
   "execution_count": 33,
   "metadata": {},
   "outputs": [
    {
     "data": {
      "text/plain": [
       "id                     1125692\n",
       "sentence               1125692\n",
       "translated_sentence    1125692\n",
       "dtype: int64"
      ]
     },
     "execution_count": 33,
     "metadata": {},
     "output_type": "execute_result"
    }
   ],
   "source": [
    "df.count()"
   ]
  },
  {
   "cell_type": "code",
   "execution_count": 34,
   "metadata": {},
   "outputs": [],
   "source": [
    "# Apart from anticonstitutionnellement and a few others, there are effectively no words over 20 letters in french, so any sentences with a string of characters longer than this should probably be removed.\n",
    "# This doesn't account for hyphens and apostrophes but words this long might cause wrapping issues in the app anyway.\n",
    "# 19\n",
    "\n",
    "# NOTE: Shorthand w is only standard alphanumeric so have to change\n",
    "\n",
    "regex = {\n",
    "    'fr': r'\\b\\w{20,}\\b',\n",
    "    'de': r'\\b\\w{40,}\\b', # Longest commonly-used word in german seems to be around 40 characters,\n",
    "    'ru': r'\\b\\w{32,}\\b' # рентгеноэлектрокардиографический\n",
    "}[constants.language_code]\n",
    "\n",
    "df = df[~df['sentence'].str.contains(regex, regex=True, na=False)]"
   ]
  },
  {
   "cell_type": "code",
   "execution_count": 45,
   "metadata": {},
   "outputs": [],
   "source": [
    "# Remove any grammatical weirdness\n",
    "\"\"\"\n",
    "..\n",
    "''\n",
    "\"\"\n",
    "--\n",
    "=\n",
    ">\n",
    "<\n",
    "??\n",
    "((\n",
    "))\n",
    "#\n",
    "+++\n",
    "^\n",
    "|\n",
    "$$\n",
    "££\n",
    "€€\n",
    "¥¥\n",
    "%%\n",
    "&&\n",
    "*\n",
    "!!\n",
    "~\n",
    ";\n",
    ":\n",
    "¬\n",
    "œ\n",
    "♪\n",
    "╞\n",
    "╢\n",
    "╪\n",
    "╟\n",
    "▌\n",
    "┴\n",
    "╩\n",
    "│\n",
    "\"\"\"\n",
    "\n",
    "strings_to_remove = ['\\.\\.', '\\.\\.', \"''\", '\"\"', '--', '=',\n",
    "    '>', '<', '\\?\\?', '\\(\\(', '\\)\\)', '#', '\\+\\+\\+', '\\^',\n",
    "    '\\|', '\\$\\$', '££', '€€', '¥¥', '%%', '&&', '\\*', '!!',\n",
    "    '~', ';', ':', '¬', '`', 'œ', '♪', '╞', '╢', '╪', '╟', \n",
    "    '▌', '┴', '╩', '│']\n",
    "\n",
    "# Create the regex pattern\n",
    "regex = '|'.join(strings_to_remove)\n",
    "\n",
    "df = df[~df['sentence'].str.contains(fr'{regex}', regex=True, na=False)]"
   ]
  },
  {
   "cell_type": "code",
   "execution_count": 46,
   "metadata": {},
   "outputs": [
    {
     "data": {
      "text/plain": [
       "id                     929014\n",
       "sentence               929014\n",
       "translated_sentence    929014\n",
       "dtype: int64"
      ]
     },
     "execution_count": 46,
     "metadata": {},
     "output_type": "execute_result"
    }
   ],
   "source": [
    "df.count()"
   ]
  },
  {
   "cell_type": "code",
   "execution_count": 47,
   "metadata": {},
   "outputs": [],
   "source": [
    "# Remove any sentences that contain three or more unique strings of numbers. This is fairly\n",
    "# restrictive but the dataset is large so I can afford to be picky\n",
    "\n",
    "def count_numbers(sentence):\n",
    "    return len(re.findall(r'\\b\\d+\\b', sentence))\n",
    "\n",
    "# Apply the function to the 'sentence' column\n",
    "df['number_count'] = df['sentence'].apply(count_numbers)\n",
    "\n",
    "# Remove rows where 'number_count' is three or more\n",
    "df = df[df['number_count'] < 3]\n",
    "\n",
    "# Optionally, remove the 'number_count' column\n",
    "df = df.drop(columns=['number_count'])"
   ]
  },
  {
   "cell_type": "code",
   "execution_count": 48,
   "metadata": {},
   "outputs": [
    {
     "data": {
      "text/plain": [
       "id                     929014\n",
       "sentence               929014\n",
       "translated_sentence    929014\n",
       "dtype: int64"
      ]
     },
     "execution_count": 48,
     "metadata": {},
     "output_type": "execute_result"
    }
   ],
   "source": [
    "df.count()"
   ]
  },
  {
   "cell_type": "code",
   "execution_count": 38,
   "metadata": {},
   "outputs": [],
   "source": [
    "# Remove any sentences that don't start with an allowed roman character\n",
    "\n",
    "# Define the list of allowed starting characters\n",
    "allowed_chars = {\n",
    "    'fr': '[a-zA-ZéèêëÉÈÊËàâäÀÂÄôöÔÖûüÛÜçÇîÎïÏ]',\n",
    "    'de': '[a-zA-ZäöüÄÖÜß]',\n",
    "    'ru': '[А-Яа-яЁё]'\n",
    "    }[constants.language_code]\n",
    "\n",
    "pattern = f'^[^{allowed_chars}]'\n",
    "\n",
    "# Use pattern to remove sentences that don't start with the allowed characters\n",
    "df = df[~df['sentence'].str.match(pattern)]"
   ]
  },
  {
   "cell_type": "code",
   "execution_count": 52,
   "metadata": {},
   "outputs": [],
   "source": [
    "# Remove sentences starting with a space or -. Not sure why these weren't removed before\n",
    "df = df[~df['sentence'].str.startswith((' ', '-', '—'))]\n",
    "df = df[~df['translated_sentence'].str.startswith((' ', '-', '—'))]"
   ]
  },
  {
   "cell_type": "code",
   "execution_count": 42,
   "metadata": {},
   "outputs": [],
   "source": [
    "# In russian, remove any sentences that contain roman characters\n",
    "# This will miss any accented characters, which is a potential issue\n",
    "if constants.language_code == 'ru':\n",
    "    df = df[~df['sentence'].str.contains('[a-zA-Z]', regex=True)]"
   ]
  },
  {
   "cell_type": "code",
   "execution_count": 43,
   "metadata": {},
   "outputs": [],
   "source": [
    "# Remove any sentences where there's an uneven number of quotation marks\n",
    "\n",
    "# Define the quotation marks\n",
    "quotation_marks = [\n",
    "    \"'\", '\"', '`', '«', '»', '‘', '’', '“', '”', '„', '‚', '「',\n",
    "    '」', '『', '』', '《', '》', '〈', '〉', '‚', '‛', '„', '‟',\n",
    "    '‘', '’', '“', '”', '‹', '›', '«', '»', '｢', '｣', '｡', '｠',\n",
    "    '｟', '｠', '′', '″'\n",
    "    ]\n",
    "\n",
    "def has_uneven_quotation_marks(sentence):\n",
    "    for mark in quotation_marks:\n",
    "        if sentence.count(mark) % 2 != 0:\n",
    "            return True\n",
    "    return False\n",
    "\n",
    "df = df[~df['sentence'].apply(has_uneven_quotation_marks)]\n"
   ]
  },
  {
   "cell_type": "code",
   "execution_count": 53,
   "metadata": {},
   "outputs": [],
   "source": [
    "# Remove id column and save dataframes as csv\n",
    "df.to_csv(f\"../output_files/{constants.language_code}/step3_sentences.csv\", sep='\\t', index=False)"
   ]
  },
  {
   "cell_type": "code",
   "execution_count": null,
   "metadata": {},
   "outputs": [],
   "source": []
  }
 ],
 "metadata": {
  "kernelspec": {
   "display_name": "venv",
   "language": "python",
   "name": "python3"
  },
  "language_info": {
   "codemirror_mode": {
    "name": "ipython",
    "version": 3
   },
   "file_extension": ".py",
   "mimetype": "text/x-python",
   "name": "python",
   "nbconvert_exporter": "python",
   "pygments_lexer": "ipython3",
   "version": "3.11.6"
  },
  "orig_nbformat": 4
 },
 "nbformat": 4,
 "nbformat_minor": 2
}
