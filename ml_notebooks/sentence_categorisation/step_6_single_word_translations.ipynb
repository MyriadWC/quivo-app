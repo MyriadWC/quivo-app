{
 "cells": [
  {
   "cell_type": "markdown",
   "metadata": {},
   "source": [
    "The next step is to find translations for each individual word in the corpus, if one exists. Since each word can have multiple meanings I want to show multiple translations for words that require it. For that I'll use the Translator 3.0: Dictionary Lookup by Microsoft: https://learn.microsoft.com/en-us/azure/ai-services/translator/reference/v3-0-dictionary-lookup\n",
    "\n"
   ]
  }
 ],
 "metadata": {
  "language_info": {
   "name": "python"
  }
 },
 "nbformat": 4,
 "nbformat_minor": 2
}
